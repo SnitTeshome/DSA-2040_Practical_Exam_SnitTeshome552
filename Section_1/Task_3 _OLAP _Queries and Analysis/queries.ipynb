{
 "cells": [
  {
   "cell_type": "markdown",
   "id": "0fdc161e",
   "metadata": {},
   "source": [
    "## *Step 1: Roll-up — Total Sales by Country and Quarter*"
   ]
  },
  {
   "cell_type": "code",
   "execution_count": 87,
   "id": "9e73b3ec",
   "metadata": {},
   "outputs": [
    {
     "name": "stdout",
     "output_type": "stream",
     "text": [
      "Database connection successful!\n"
     ]
    }
   ],
   "source": [
    "import os\n",
    "import sqlite3\n",
    "import matplotlib.pyplot as plt\n",
    "import matplotlib.ticker as mtick\n",
    "\n",
    "# Define folder and database path\n",
    "db_folder = r\"C:\\Users\\Snit Kahsay\\Desktop\\DSA-2040_Practical_Exam_SnitTeshome552\\Section_1\\Task_2_ETL_Process_Implementation\"\n",
    "os.makedirs(db_folder, exist_ok=True)  # Ensure folder exists\n",
    "\n",
    "db_path = os.path.join(db_folder, \"retail_dw.db\")\n",
    "\n",
    "# Connect to SQLite\n",
    "conn = sqlite3.connect(db_path)\n",
    "print(\"Database connection successful!\")\n",
    "# conn.close()\n"
   ]
  },
  {
   "cell_type": "code",
   "execution_count": 88,
   "id": "a3a1bfbf",
   "metadata": {},
   "outputs": [
    {
     "name": "stdout",
     "output_type": "stream",
     "text": [
      "Tables in database:\n",
      "           name\n",
      "0    FactSales\n",
      "1  CustomerDim\n",
      "2     StoreDim\n",
      "3   ProductDim\n",
      "4      TimeDim\n",
      "\n",
      "Columns in FactSales:\n",
      "    cid         name       type  notnull dflt_value  pk\n",
      "0    0    InvoiceNo       TEXT        0       None   0\n",
      "1    1  InvoiceDate  TIMESTAMP        0       None   0\n",
      "2    2       TimeID    INTEGER        0       None   0\n",
      "3    3    ProductID       TEXT        0       None   0\n",
      "4    4   CustomerID       REAL        0       None   0\n",
      "5    5      StoreID    INTEGER        0       None   0\n",
      "6    6     Quantity    INTEGER        0       None   0\n",
      "7    7    UnitPrice       REAL        0       None   0\n",
      "8    8     Discount    INTEGER        0       None   0\n",
      "9    9   TotalSales       REAL        0       None   0\n",
      "\n",
      "Columns in CustomerDim:\n",
      "    cid           name     type  notnull dflt_value  pk\n",
      "0    0     CustomerID     REAL        0       None   0\n",
      "1    1        Country     TEXT        0       None   0\n",
      "2    2   CustomerName     TEXT        0       None   0\n",
      "3    3           City     TEXT        0       None   0\n",
      "4    4         Gender     TEXT        0       None   0\n",
      "5    5            Age  INTEGER        0       None   0\n",
      "6    6  CustomerSince     TEXT        0       None   0\n",
      "\n",
      "Columns in StoreDim:\n",
      "    cid       name     type  notnull dflt_value  pk\n",
      "0    0    Country     TEXT        0       None   0\n",
      "1    1    StoreID  INTEGER        0       None   0\n",
      "2    2  StoreName     TEXT        0       None   0\n",
      "3    3    Channel     TEXT        0       None   0\n",
      "4    4       City     TEXT        0       None   0\n",
      "\n",
      "Columns in ProductDim:\n",
      "    cid         name  type  notnull dflt_value  pk\n",
      "0    0    ProductID  TEXT        0       None   0\n",
      "1    1  ProductName  TEXT        0       None   0\n",
      "2    2     UnitCost  REAL        0       None   0\n",
      "3    3     Category  TEXT        0       None   0\n",
      "4    4        Brand  TEXT        0       None   0\n",
      "\n",
      "Columns in TimeDim:\n",
      "    cid        name     type  notnull dflt_value  pk\n",
      "0    0      TimeID  INTEGER        0       None   0\n",
      "1    1    FullDate     TEXT        0       None   0\n",
      "2    2         Day  INTEGER        0       None   0\n",
      "3    3       Month  INTEGER        0       None   0\n",
      "4    4     Quarter  INTEGER        0       None   0\n",
      "5    5        Year  INTEGER        0       None   0\n",
      "6    6  WeekOfYear  INTEGER        0       None   0\n"
     ]
    }
   ],
   "source": [
    "# List all tables\n",
    "tables = pd.read_sql_query(\"SELECT name FROM sqlite_master WHERE type='table';\", conn)\n",
    "print(\"Tables in database:\\n\", tables)\n",
    "\n",
    "# Check columns for each table\n",
    "for table in tables['name']:\n",
    "    cols = pd.read_sql_query(f\"PRAGMA table_info({table});\", conn)\n",
    "    print(f\"\\nColumns in {table}:\\n\", cols)\n"
   ]
  },
  {
   "cell_type": "markdown",
   "id": "74fec033",
   "metadata": {},
   "source": [
    "### *Step 1: Roll-up — Total Sales by Country and Quarter*"
   ]
  },
  {
   "cell_type": "code",
   "execution_count": 89,
   "id": "c793b507",
   "metadata": {},
   "outputs": [
    {
     "data": {
      "application/vnd.microsoft.datawrangler.viewer.v0+json": {
       "columns": [
        {
         "name": "index",
         "rawType": "int64",
         "type": "integer"
        },
        {
         "name": "Country",
         "rawType": "object",
         "type": "string"
        },
        {
         "name": "Year",
         "rawType": "int64",
         "type": "integer"
        },
        {
         "name": "Quarter",
         "rawType": "int64",
         "type": "integer"
        },
        {
         "name": "TotalSales",
         "rawType": "float64",
         "type": "float"
        }
       ],
       "ref": "d4512ddc-cc55-41f3-97ed-9bd2076b5244",
       "rows": [
        [
         "0",
         "Australia",
         "2024",
         "4",
         "1032.85"
        ],
        [
         "1",
         "Australia",
         "2025",
         "1",
         "41577.22"
        ],
        [
         "2",
         "Australia",
         "2025",
         "2",
         "40015.14"
        ],
        [
         "3",
         "Australia",
         "2025",
         "3",
         "32560.31"
        ],
        [
         "4",
         "Australia",
         "2025",
         "4",
         "24725.93"
        ]
       ],
       "shape": {
        "columns": 4,
        "rows": 5
       }
      },
      "text/html": [
       "<div>\n",
       "<style scoped>\n",
       "    .dataframe tbody tr th:only-of-type {\n",
       "        vertical-align: middle;\n",
       "    }\n",
       "\n",
       "    .dataframe tbody tr th {\n",
       "        vertical-align: top;\n",
       "    }\n",
       "\n",
       "    .dataframe thead th {\n",
       "        text-align: right;\n",
       "    }\n",
       "</style>\n",
       "<table border=\"1\" class=\"dataframe\">\n",
       "  <thead>\n",
       "    <tr style=\"text-align: right;\">\n",
       "      <th></th>\n",
       "      <th>Country</th>\n",
       "      <th>Year</th>\n",
       "      <th>Quarter</th>\n",
       "      <th>TotalSales</th>\n",
       "    </tr>\n",
       "  </thead>\n",
       "  <tbody>\n",
       "    <tr>\n",
       "      <th>0</th>\n",
       "      <td>Australia</td>\n",
       "      <td>2024</td>\n",
       "      <td>4</td>\n",
       "      <td>1032.85</td>\n",
       "    </tr>\n",
       "    <tr>\n",
       "      <th>1</th>\n",
       "      <td>Australia</td>\n",
       "      <td>2025</td>\n",
       "      <td>1</td>\n",
       "      <td>41577.22</td>\n",
       "    </tr>\n",
       "    <tr>\n",
       "      <th>2</th>\n",
       "      <td>Australia</td>\n",
       "      <td>2025</td>\n",
       "      <td>2</td>\n",
       "      <td>40015.14</td>\n",
       "    </tr>\n",
       "    <tr>\n",
       "      <th>3</th>\n",
       "      <td>Australia</td>\n",
       "      <td>2025</td>\n",
       "      <td>3</td>\n",
       "      <td>32560.31</td>\n",
       "    </tr>\n",
       "    <tr>\n",
       "      <th>4</th>\n",
       "      <td>Australia</td>\n",
       "      <td>2025</td>\n",
       "      <td>4</td>\n",
       "      <td>24725.93</td>\n",
       "    </tr>\n",
       "  </tbody>\n",
       "</table>\n",
       "</div>"
      ],
      "text/plain": [
       "     Country  Year  Quarter  TotalSales\n",
       "0  Australia  2024        4     1032.85\n",
       "1  Australia  2025        1    41577.22\n",
       "2  Australia  2025        2    40015.14\n",
       "3  Australia  2025        3    32560.31\n",
       "4  Australia  2025        4    24725.93"
      ]
     },
     "execution_count": 89,
     "metadata": {},
     "output_type": "execute_result"
    }
   ],
   "source": [
    "# Roll-up query: Total sales by country and quarter\n",
    "rollup_query = \"\"\"\n",
    "SELECT \n",
    "    c.Country,\n",
    "    t.Year,\n",
    "    t.Quarter,\n",
    "    SUM(f.TotalSales) AS TotalSales\n",
    "FROM FactSales f\n",
    "JOIN CustomerDim c ON f.CustomerID = c.CustomerID\n",
    "JOIN TimeDim t ON f.TimeID = t.TimeID\n",
    "GROUP BY c.Country, t.Year, t.Quarter\n",
    "ORDER BY c.Country, t.Year, t.Quarter;\n",
    "\"\"\"\n",
    "\n",
    "rollup_df = pd.read_sql_query(rollup_query, conn)\n",
    "rollup_df.head()\n"
   ]
  },
  {
   "cell_type": "markdown",
   "id": "7820ca0b",
   "metadata": {},
   "source": [
    "### *Step 2: Drill-down — Sales Details for a Specific Country by Month*"
   ]
  },
  {
   "cell_type": "code",
   "execution_count": 90,
   "id": "9d056a6c",
   "metadata": {},
   "outputs": [
    {
     "name": "stdout",
     "output_type": "stream",
     "text": [
      "  YearMonth  TotalSales\n",
      "0   2024-12  498661.850\n",
      "1   2025-01  442190.060\n",
      "2   2025-02  355655.630\n",
      "3   2025-03  467198.590\n",
      "4   2025-04  409559.141\n"
     ]
    }
   ],
   "source": [
    "country = 'United Kingdom'\n",
    "\n",
    "drilldown_query = f\"\"\"\n",
    "SELECT \n",
    "    t.Year || '-' || printf('%02d', t.Month) AS YearMonth,\n",
    "    SUM(f.TotalSales) AS TotalSales\n",
    "FROM FactSales f\n",
    "JOIN CustomerDim c ON f.CustomerID = c.CustomerID\n",
    "JOIN TimeDim t ON f.TimeID = t.TimeID\n",
    "WHERE c.Country = '{country}'\n",
    "GROUP BY YearMonth\n",
    "ORDER BY YearMonth;\n",
    "\"\"\"\n",
    "\n",
    "conn = sqlite3.connect(db_path)\n",
    "drilldown_df = pd.read_sql_query(drilldown_query, conn)\n",
    "# conn.close()\n",
    "\n",
    "print(drilldown_df.head())\n"
   ]
  },
  {
   "cell_type": "markdown",
   "id": "40d1f76d",
   "metadata": {},
   "source": [
    "### *Step 3: Slice — Total Sales for Electronics Category*"
   ]
  },
  {
   "cell_type": "code",
   "execution_count": 91,
   "id": "42fdd946",
   "metadata": {},
   "outputs": [
    {
     "name": "stdout",
     "output_type": "stream",
     "text": [
      "Categories in ProductDim:\n",
      "         Category\n",
      "0  Miscellaneous\n",
      "1   Toys & Games\n",
      "2       Clothing\n",
      "3          Books\n",
      "4    Electronics\n",
      "\n",
      "Total sales for Electronics:\n",
      "    TotalSales\n",
      "0    12869.16\n"
     ]
    }
   ],
   "source": [
    "# Check distinct categories\n",
    "categories = pd.read_sql_query(\"SELECT DISTINCT Category FROM ProductDim;\", conn)\n",
    "print(\"Categories in ProductDim:\\n\", categories)\n",
    "\n",
    "# Slice query: Total sales for Electronics (if exists)\n",
    "slice_query = \"\"\"\n",
    "SELECT \n",
    "    SUM(f.TotalSales) AS TotalSales\n",
    "FROM FactSales f\n",
    "JOIN ProductDim p ON f.ProductID = p.ProductID\n",
    "WHERE p.Category = 'Electronics';\n",
    "\"\"\"\n",
    "\n",
    "slice_df = pd.read_sql_query(slice_query, conn)\n",
    "print(\"\\nTotal sales for Electronics:\\n\", slice_df)"
   ]
  },
  {
   "cell_type": "markdown",
   "id": "cd95c334",
   "metadata": {},
   "source": [
    "## *Step 4: Visualize Roll-up Result*"
   ]
  },
  {
   "cell_type": "code",
   "execution_count": 92,
   "id": "60b4ccb6",
   "metadata": {},
   "outputs": [
    {
     "name": "stderr",
     "output_type": "stream",
     "text": [
      "C:\\Users\\Snit Kahsay\\AppData\\Local\\Temp\\ipykernel_6792\\3339661652.py:13: FutureWarning: \n",
      "\n",
      "Passing `palette` without assigning `hue` is deprecated and will be removed in v0.14.0. Assign the `x` variable to `hue` and set `legend=False` for the same effect.\n",
      "\n",
      "  ax = sns.barplot(x='Country', y='TotalSales', data=top_countries, palette=palette)\n"
     ]
    },
    {
     "data": {
      "image/png": "[encoded data removed]",
      "text/plain": [
       "<Figure size 1200x600 with 1 Axes>"
      ]
     },
     "metadata": {},
     "output_type": "display_data"
    }
   ],
   "source": [
    "# Aggregate total sales by country and keep top 10\n",
    "top_countries = rollup_df.groupby('Country')['TotalSales'].sum() \\\n",
    "                         .sort_values(ascending=False) \\\n",
    "                         .head(10) \\\n",
    "                         .reset_index()\n",
    "\n",
    "# Set Seaborn style and palette\n",
    "sns.set_style(\"whitegrid\")\n",
    "palette = sns.color_palette(\"Blues_r\", n_colors=len(top_countries))\n",
    "\n",
    "# Create the bar plot\n",
    "plt.figure(figsize=(12,6))\n",
    "ax = sns.barplot(x='Country', y='TotalSales', data=top_countries, palette=palette)\n",
    "\n",
    "# Titles and labels\n",
    "plt.title('Top 10 Countries by Total Sales', fontsize=16, weight='bold')\n",
    "plt.xlabel('Country', fontsize=12)\n",
    "plt.ylabel('Total Sales', fontsize=12)\n",
    "\n",
    "# Format y-axis as currency\n",
    "ax.yaxis.set_major_formatter(mtick.StrMethodFormatter('${x:,.0f}'))\n",
    "\n",
    "# Rotate x-axis labels\n",
    "plt.xticks(rotation=45, ha='right', fontsize=10)\n",
    "\n",
    "# Add value labels on top of bars\n",
    "for i, row in top_countries.iterrows():\n",
    "    ax.text(i, row['TotalSales'] + 50000, f\"${row['TotalSales']:,.0f}\", \n",
    "            ha='center', va='bottom', fontsize=10)\n",
    "\n",
    "# Tight layout\n",
    "plt.tight_layout()\n",
    "\n",
    "# Save figure\n",
    "plt.savefig(\"top10_sales_by_country.png\", dpi=300)\n",
    "\n",
    "# Show plot\n",
    "plt.show()"
   ]
  },
  {
   "cell_type": "markdown",
   "id": "264f0ce9",
   "metadata": {},
   "source": [
    "\n",
    "\n",
    "---\n",
    "\n",
    "### *Top 10 Countries by Total Sales*\n",
    "\n",
    "The bar chart titled *\"Top 10 Countries by Total Sales\"* displays the total sales figures for the leading countries in descending order. Here's a breakdown of the key insights:\n",
    "\n",
    "1. *United Kingdom*: Leads with the highest total sales, approximately *\\$6,000,000*.\n",
    "2. *Netherlands*: Follows with sales around *\\$5,000,000*.\n",
    "3. *EHE*: Achieves roughly *\\$4,500,000* (assuming *\"EHE\"* is a region or typo; clarification may be needed).\n",
    "4. *Germany*: Close behind with about *\\$4,000,000*.\n",
    "5. *France*: Sales near *\\$3,500,000*.\n",
    "6. *Australia*: Around *\\$3,000,000*.\n",
    "7. *Spain*: Approximately *\\$2,500,000*.\n",
    "8. *Switzerland*: Roughly *\\$2,000,000*.\n",
    "9. *Belgium*: Slightly under *\\$1,500,000*.\n",
    "10. *Sweden*: The lowest in the top 10, just above *\\$1,000,000*.\n",
    "\n",
    "### *Observations*\n",
    "\n",
    "* *Dominance of UK and Netherlands*: These two countries significantly outperform others, contributing the most to total sales.\n",
    "* *European Focus*: 8 of the top 10 countries are European, indicating a strong market presence there.\n",
    "* *Potential Typo*: *\"EHE\"* might be an error (possibly *\"EEA\"* or a specific region); verification is recommended.\n",
    "\n",
    "### *Actionable Insights*\n",
    "\n",
    "* *Market Prioritization*: Focus on the UK and Netherlands for high returns; explore growth opportunities in underperforming European markets like Belgium and Sweden.\n",
    "* *Data Clarification*: Confirm the meaning of *\"EHE\"* to ensure accurate analysis.\n",
    "\n",
    "---"
   ]
  }
 ],
 "metadata": {
  "kernelspec": {
   "display_name": ".end-sem (3.11.9)",
   "language": "python",
   "name": "python3"
  },
  "language_info": {
   "codemirror_mode": {
    "name": "ipython",
    "version": 3
   },
   "file_extension": ".py",
   "mimetype": "text/x-python",
   "name": "python",
   "nbconvert_exporter": "python",
   "pygments_lexer": "ipython3",
   "version": "3.11.9"
  }
 },
 "nbformat": 4,
 "nbformat_minor": 5
}
