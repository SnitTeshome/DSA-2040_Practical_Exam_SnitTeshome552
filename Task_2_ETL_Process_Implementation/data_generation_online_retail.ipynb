{
 "cells": [
  {
   "cell_type": "markdown",
   "id": "cf1db178",
   "metadata": {},
   "source": [
    "### *Load and preprocess the dataset*"
   ]
  },
  {
   "cell_type": "code",
   "execution_count": 4,
   "id": "e508ea3e",
   "metadata": {},
   "outputs": [],
   "source": [
    "# import pandas as pd\n",
    "# from datetime import timedelta\n",
    "\n",
    "# # Load the dataset CSV file into a pandas DataFrame.\n",
    "# # Use encoding='ISO-8859-1' because the dataset contains special characters.\n",
    "\n",
    "    \n",
    "# df = pd.read_csv(r'Data\\Online Retail.csv', encoding='ISO-8859-1')\n",
    "\n",
    "\n",
    "# # Convert the 'InvoiceDate' column to datetime type for easier date manipulation.\n",
    "# df['InvoiceDate'] = pd.to_datetime(df['InvoiceDate'])\n",
    "\n",
    "# # Shift the InvoiceDate forward by 14 years to adjust the dataset date range from 2010-2011 to approximately 2024-2025.\n",
    "# df['InvoiceDate'] = df['InvoiceDate'] + pd.DateOffset(years=14)\n",
    "\n",
    "# # Preview the earliest and latest dates after shifting to confirm the date range.\n",
    "# print(\"Date range after shifting:\", df['InvoiceDate'].min(), \"to\", df['InvoiceDate'].max())\n"
   ]
  }
 ],
 "metadata": {
  "kernelspec": {
   "display_name": ".end-sem (3.11.9)",
   "language": "python",
   "name": "python3"
  },
  "language_info": {
   "codemirror_mode": {
    "name": "ipython",
    "version": 3
   },
   "file_extension": ".py",
   "mimetype": "text/x-python",
   "name": "python",
   "nbconvert_exporter": "python",
   "pygments_lexer": "ipython3",
   "version": "3.11.9"
  }
 },
 "nbformat": 4,
 "nbformat_minor": 5
}
