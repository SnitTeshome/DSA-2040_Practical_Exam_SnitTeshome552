{
 "cells": [
  {
   "cell_type": "markdown",
   "id": "276d4660",
   "metadata": {},
   "source": [
    "## *Extract , Transform & Load:Retail_Data*"
   ]
  },
  {
   "cell_type": "code",
   "execution_count": 4,
   "id": "5f9fb312",
   "metadata": {},
   "outputs": [],
   "source": [
    "import pandas as pd\n",
    "import sqlite3\n",
    "from datetime import datetime\n",
    "import logging\n",
    "import os\n",
    "from glob import glob"
   ]
  },
  {
   "cell_type": "markdown",
   "id": "fcdf5aca",
   "metadata": {},
   "source": [
    "### *Step 1: Extract*"
   ]
  },
  {
   "cell_type": "code",
   "execution_count": 9,
   "id": "089f1679",
   "metadata": {},
   "outputs": [
    {
     "name": "stdout",
     "output_type": "stream",
     "text": [
      "The matched raw dataset csv_files are:\n",
      "synthetic_data\\CustomerDim.csv\n",
      "synthetic_data\\FactSales.csv\n",
      "synthetic_data\\ProductDim.csv\n",
      "synthetic_data\\StoreDim.csv\n",
      "synthetic_data\\TimeDim.csv\n"
     ]
    }
   ],
   "source": [
    "import os\n",
    "from glob import glob\n",
    "\n",
    "# Define your raw data folder path\n",
    "RAW_PATH = 'synthetic_data'\n",
    "\n",
    "# Find all CSV files in the folder\n",
    "csv_files = glob(os.path.join(RAW_PATH, \"*.csv\"))\n",
    "\n",
    "# Print message about matched files\n",
    "print(\"The matched raw dataset csv_files are:\")\n",
    "\n",
    "# Display the list of CSV file paths\n",
    "for file in csv_files:\n",
    "    print(file)\n"
   ]
  },
  {
   "cell_type": "markdown",
   "id": "70470e5c",
   "metadata": {},
   "source": [
    "## *Preview the Extracted Datasets*"
   ]
  },
  {
   "cell_type": "code",
   "execution_count": 10,
   "id": "b3f9b1aa",
   "metadata": {},
   "outputs": [],
   "source": [
    "# Create dictionary with cleaned dataset names as keys and DataFrames as values\n",
    "datasets = {}\n",
    "for file in csv_files:\n",
    "    # Extract base file name without extension (e.g., TimeDim.csv → TimeDim)\n",
    "    base = os.path.basename(file).replace(\".csv\", \"\")\n",
    "    \n",
    "    # Load each CSV into the dictionary under the cleaned base name key\n",
    "    datasets[base] = pd.read_csv(file, encoding='ISO-8859-1')\n"
   ]
  },
  {
   "cell_type": "code",
   "execution_count": 11,
   "id": "19a309a2",
   "metadata": {},
   "outputs": [
    {
     "name": "stdout",
     "output_type": "stream",
     "text": [
      "\n",
      "--- Previewing Dataset: CUSTOMERDIM ---\n",
      "CustomerDim — 4389 rows × 7 columns loaded.\n",
      "\n"
     ]
    },
    {
     "data": {
      "application/vnd.microsoft.datawrangler.viewer.v0+json": {
       "columns": [
        {
         "name": "index",
         "rawType": "int64",
         "type": "integer"
        },
        {
         "name": "CustomerID",
         "rawType": "float64",
         "type": "float"
        },
        {
         "name": "Country",
         "rawType": "object",
         "type": "string"
        },
        {
         "name": "CustomerName",
         "rawType": "object",
         "type": "string"
        },
        {
         "name": "City",
         "rawType": "object",
         "type": "string"
        },
        {
         "name": "Gender",
         "rawType": "object",
         "type": "string"
        },
        {
         "name": "Age",
         "rawType": "int64",
         "type": "integer"
        },
        {
         "name": "CustomerSince",
         "rawType": "object",
         "type": "string"
        }
       ],
       "ref": "8cf6dd68-3fb7-415c-a1c2-9dceb9aaa355",
       "rows": [
        [
         "0",
         "17850.0",
         "United Kingdom",
         "54cde5dbb6",
         "Amberport",
         "Female",
         "42",
         "2024-12-01 08:26:00"
        ],
        [
         "1",
         "13047.0",
         "United Kingdom",
         "86314fa849",
         "West Joshua",
         "Other",
         "26",
         "2024-12-01 08:26:00"
        ],
        [
         "2",
         "12583.0",
         "France",
         "dcff63cd99",
         "East Shannonbury",
         "Female",
         "52",
         "2024-12-01 08:26:00"
        ],
        [
         "3",
         "13748.0",
         "United Kingdom",
         "590354e49f",
         "Malcolmberg",
         "Female",
         "33",
         "2024-12-01 08:26:00"
        ],
        [
         "4",
         "15100.0",
         "United Kingdom",
         "58ec7997a6",
         "Port Raymond",
         "Other",
         "62",
         "2024-12-01 08:26:00"
        ]
       ],
       "shape": {
        "columns": 7,
        "rows": 5
       }
      },
      "text/html": [
       "<div>\n",
       "<style scoped>\n",
       "    .dataframe tbody tr th:only-of-type {\n",
       "        vertical-align: middle;\n",
       "    }\n",
       "\n",
       "    .dataframe tbody tr th {\n",
       "        vertical-align: top;\n",
       "    }\n",
       "\n",
       "    .dataframe thead th {\n",
       "        text-align: right;\n",
       "    }\n",
       "</style>\n",
       "<table border=\"1\" class=\"dataframe\">\n",
       "  <thead>\n",
       "    <tr style=\"text-align: right;\">\n",
       "      <th></th>\n",
       "      <th>CustomerID</th>\n",
       "      <th>Country</th>\n",
       "      <th>CustomerName</th>\n",
       "      <th>City</th>\n",
       "      <th>Gender</th>\n",
       "      <th>Age</th>\n",
       "      <th>CustomerSince</th>\n",
       "    </tr>\n",
       "  </thead>\n",
       "  <tbody>\n",
       "    <tr>\n",
       "      <th>0</th>\n",
       "      <td>17850.0</td>\n",
       "      <td>United Kingdom</td>\n",
       "      <td>54cde5dbb6</td>\n",
       "      <td>Amberport</td>\n",
       "      <td>Female</td>\n",
       "      <td>42</td>\n",
       "      <td>2024-12-01 08:26:00</td>\n",
       "    </tr>\n",
       "    <tr>\n",
       "      <th>1</th>\n",
       "      <td>13047.0</td>\n",
       "      <td>United Kingdom</td>\n",
       "      <td>86314fa849</td>\n",
       "      <td>West Joshua</td>\n",
       "      <td>Other</td>\n",
       "      <td>26</td>\n",
       "      <td>2024-12-01 08:26:00</td>\n",
       "    </tr>\n",
       "    <tr>\n",
       "      <th>2</th>\n",
       "      <td>12583.0</td>\n",
       "      <td>France</td>\n",
       "      <td>dcff63cd99</td>\n",
       "      <td>East Shannonbury</td>\n",
       "      <td>Female</td>\n",
       "      <td>52</td>\n",
       "      <td>2024-12-01 08:26:00</td>\n",
       "    </tr>\n",
       "    <tr>\n",
       "      <th>3</th>\n",
       "      <td>13748.0</td>\n",
       "      <td>United Kingdom</td>\n",
       "      <td>590354e49f</td>\n",
       "      <td>Malcolmberg</td>\n",
       "      <td>Female</td>\n",
       "      <td>33</td>\n",
       "      <td>2024-12-01 08:26:00</td>\n",
       "    </tr>\n",
       "    <tr>\n",
       "      <th>4</th>\n",
       "      <td>15100.0</td>\n",
       "      <td>United Kingdom</td>\n",
       "      <td>58ec7997a6</td>\n",
       "      <td>Port Raymond</td>\n",
       "      <td>Other</td>\n",
       "      <td>62</td>\n",
       "      <td>2024-12-01 08:26:00</td>\n",
       "    </tr>\n",
       "  </tbody>\n",
       "</table>\n",
       "</div>"
      ],
      "text/plain": [
       "   CustomerID         Country CustomerName              City  Gender  Age  \\\n",
       "0     17850.0  United Kingdom   54cde5dbb6         Amberport  Female   42   \n",
       "1     13047.0  United Kingdom   86314fa849       West Joshua   Other   26   \n",
       "2     12583.0          France   dcff63cd99  East Shannonbury  Female   52   \n",
       "3     13748.0  United Kingdom   590354e49f       Malcolmberg  Female   33   \n",
       "4     15100.0  United Kingdom   58ec7997a6      Port Raymond   Other   62   \n",
       "\n",
       "         CustomerSince  \n",
       "0  2024-12-01 08:26:00  \n",
       "1  2024-12-01 08:26:00  \n",
       "2  2024-12-01 08:26:00  \n",
       "3  2024-12-01 08:26:00  \n",
       "4  2024-12-01 08:26:00  "
      ]
     },
     "metadata": {},
     "output_type": "display_data"
    },
    {
     "name": "stdout",
     "output_type": "stream",
     "text": [
      "--------------------------------------------------------------------------------\n",
      "\n",
      "--- Previewing Dataset: FACTSALES ---\n",
      "FactSales — 541909 rows × 10 columns loaded.\n",
      "\n"
     ]
    },
    {
     "data": {
      "application/vnd.microsoft.datawrangler.viewer.v0+json": {
       "columns": [
        {
         "name": "index",
         "rawType": "int64",
         "type": "integer"
        },
        {
         "name": "InvoiceNo",
         "rawType": "object",
         "type": "string"
        },
        {
         "name": "InvoiceDate",
         "rawType": "object",
         "type": "string"
        },
        {
         "name": "TimeID",
         "rawType": "int64",
         "type": "integer"
        },
        {
         "name": "ProductID",
         "rawType": "object",
         "type": "string"
        },
        {
         "name": "CustomerID",
         "rawType": "float64",
         "type": "float"
        },
        {
         "name": "StoreID",
         "rawType": "int64",
         "type": "integer"
        },
        {
         "name": "Quantity",
         "rawType": "int64",
         "type": "integer"
        },
        {
         "name": "UnitPrice",
         "rawType": "float64",
         "type": "float"
        },
        {
         "name": "Discount",
         "rawType": "int64",
         "type": "integer"
        },
        {
         "name": "TotalSales",
         "rawType": "float64",
         "type": "float"
        }
       ],
       "ref": "5791b74f-f940-4c07-9991-457b2e431115",
       "rows": [
        [
         "0",
         "536365",
         "2024-12-01",
         "20241201",
         "85123A",
         "17850.0",
         "1",
         "6",
         "2.55",
         "0",
         "15.3"
        ],
        [
         "1",
         "536365",
         "2024-12-01",
         "20241201",
         "71053",
         "17850.0",
         "1",
         "6",
         "3.39",
         "0",
         "20.34"
        ],
        [
         "2",
         "536365",
         "2024-12-01",
         "20241201",
         "84406B",
         "17850.0",
         "1",
         "8",
         "2.75",
         "0",
         "22.0"
        ],
        [
         "3",
         "536365",
         "2024-12-01",
         "20241201",
         "84029G",
         "17850.0",
         "1",
         "6",
         "3.39",
         "0",
         "20.34"
        ],
        [
         "4",
         "536365",
         "2024-12-01",
         "20241201",
         "84029E",
         "17850.0",
         "1",
         "6",
         "3.39",
         "0",
         "20.34"
        ]
       ],
       "shape": {
        "columns": 10,
        "rows": 5
       }
      },
      "text/html": [
       "<div>\n",
       "<style scoped>\n",
       "    .dataframe tbody tr th:only-of-type {\n",
       "        vertical-align: middle;\n",
       "    }\n",
       "\n",
       "    .dataframe tbody tr th {\n",
       "        vertical-align: top;\n",
       "    }\n",
       "\n",
       "    .dataframe thead th {\n",
       "        text-align: right;\n",
       "    }\n",
       "</style>\n",
       "<table border=\"1\" class=\"dataframe\">\n",
       "  <thead>\n",
       "    <tr style=\"text-align: right;\">\n",
       "      <th></th>\n",
       "      <th>InvoiceNo</th>\n",
       "      <th>InvoiceDate</th>\n",
       "      <th>TimeID</th>\n",
       "      <th>ProductID</th>\n",
       "      <th>CustomerID</th>\n",
       "      <th>StoreID</th>\n",
       "      <th>Quantity</th>\n",
       "      <th>UnitPrice</th>\n",
       "      <th>Discount</th>\n",
       "      <th>TotalSales</th>\n",
       "    </tr>\n",
       "  </thead>\n",
       "  <tbody>\n",
       "    <tr>\n",
       "      <th>0</th>\n",
       "      <td>536365</td>\n",
       "      <td>2024-12-01</td>\n",
       "      <td>20241201</td>\n",
       "      <td>85123A</td>\n",
       "      <td>17850.0</td>\n",
       "      <td>1</td>\n",
       "      <td>6</td>\n",
       "      <td>2.55</td>\n",
       "      <td>0</td>\n",
       "      <td>15.30</td>\n",
       "    </tr>\n",
       "    <tr>\n",
       "      <th>1</th>\n",
       "      <td>536365</td>\n",
       "      <td>2024-12-01</td>\n",
       "      <td>20241201</td>\n",
       "      <td>71053</td>\n",
       "      <td>17850.0</td>\n",
       "      <td>1</td>\n",
       "      <td>6</td>\n",
       "      <td>3.39</td>\n",
       "      <td>0</td>\n",
       "      <td>20.34</td>\n",
       "    </tr>\n",
       "    <tr>\n",
       "      <th>2</th>\n",
       "      <td>536365</td>\n",
       "      <td>2024-12-01</td>\n",
       "      <td>20241201</td>\n",
       "      <td>84406B</td>\n",
       "      <td>17850.0</td>\n",
       "      <td>1</td>\n",
       "      <td>8</td>\n",
       "      <td>2.75</td>\n",
       "      <td>0</td>\n",
       "      <td>22.00</td>\n",
       "    </tr>\n",
       "    <tr>\n",
       "      <th>3</th>\n",
       "      <td>536365</td>\n",
       "      <td>2024-12-01</td>\n",
       "      <td>20241201</td>\n",
       "      <td>84029G</td>\n",
       "      <td>17850.0</td>\n",
       "      <td>1</td>\n",
       "      <td>6</td>\n",
       "      <td>3.39</td>\n",
       "      <td>0</td>\n",
       "      <td>20.34</td>\n",
       "    </tr>\n",
       "    <tr>\n",
       "      <th>4</th>\n",
       "      <td>536365</td>\n",
       "      <td>2024-12-01</td>\n",
       "      <td>20241201</td>\n",
       "      <td>84029E</td>\n",
       "      <td>17850.0</td>\n",
       "      <td>1</td>\n",
       "      <td>6</td>\n",
       "      <td>3.39</td>\n",
       "      <td>0</td>\n",
       "      <td>20.34</td>\n",
       "    </tr>\n",
       "  </tbody>\n",
       "</table>\n",
       "</div>"
      ],
      "text/plain": [
       "  InvoiceNo InvoiceDate    TimeID ProductID  CustomerID  StoreID  Quantity  \\\n",
       "0    536365  2024-12-01  20241201    85123A     17850.0        1         6   \n",
       "1    536365  2024-12-01  20241201     71053     17850.0        1         6   \n",
       "2    536365  2024-12-01  20241201    84406B     17850.0        1         8   \n",
       "3    536365  2024-12-01  20241201    84029G     17850.0        1         6   \n",
       "4    536365  2024-12-01  20241201    84029E     17850.0        1         6   \n",
       "\n",
       "   UnitPrice  Discount  TotalSales  \n",
       "0       2.55         0       15.30  \n",
       "1       3.39         0       20.34  \n",
       "2       2.75         0       22.00  \n",
       "3       3.39         0       20.34  \n",
       "4       3.39         0       20.34  "
      ]
     },
     "metadata": {},
     "output_type": "display_data"
    },
    {
     "name": "stdout",
     "output_type": "stream",
     "text": [
      "--------------------------------------------------------------------------------\n",
      "\n",
      "--- Previewing Dataset: PRODUCTDIM ---\n",
      "ProductDim — 18053 rows × 5 columns loaded.\n",
      "\n"
     ]
    },
    {
     "data": {
      "application/vnd.microsoft.datawrangler.viewer.v0+json": {
       "columns": [
        {
         "name": "index",
         "rawType": "int64",
         "type": "integer"
        },
        {
         "name": "ProductID",
         "rawType": "object",
         "type": "string"
        },
        {
         "name": "ProductName",
         "rawType": "object",
         "type": "string"
        },
        {
         "name": "UnitCost",
         "rawType": "float64",
         "type": "float"
        },
        {
         "name": "Category",
         "rawType": "object",
         "type": "string"
        },
        {
         "name": "Brand",
         "rawType": "object",
         "type": "string"
        }
       ],
       "ref": "976bfcb2-15c6-45de-8c33-9c96ec715a61",
       "rows": [
        [
         "0",
         "85123A",
         "WHITE HANGING HEART T-LIGHT HOLDER",
         "2.55",
         "Miscellaneous",
         "Carter, Richardson and Frazier"
        ],
        [
         "1",
         "71053",
         "WHITE METAL LANTERN",
         "3.39",
         "Miscellaneous",
         "Smith, Scott and Obrien"
        ],
        [
         "2",
         "84406B",
         "CREAM CUPID HEARTS COAT HANGER",
         "2.75",
         "Miscellaneous",
         "Ware-Sellers"
        ],
        [
         "3",
         "84029G",
         "KNITTED UNION FLAG HOT WATER BOTTLE",
         "3.39",
         "Miscellaneous",
         "Liu, Moss and Garcia"
        ],
        [
         "4",
         "84029E",
         "RED WOOLLY HOTTIE WHITE HEART.",
         "3.39",
         "Miscellaneous",
         "Bailey, Salazar and Phillips"
        ]
       ],
       "shape": {
        "columns": 5,
        "rows": 5
       }
      },
      "text/html": [
       "<div>\n",
       "<style scoped>\n",
       "    .dataframe tbody tr th:only-of-type {\n",
       "        vertical-align: middle;\n",
       "    }\n",
       "\n",
       "    .dataframe tbody tr th {\n",
       "        vertical-align: top;\n",
       "    }\n",
       "\n",
       "    .dataframe thead th {\n",
       "        text-align: right;\n",
       "    }\n",
       "</style>\n",
       "<table border=\"1\" class=\"dataframe\">\n",
       "  <thead>\n",
       "    <tr style=\"text-align: right;\">\n",
       "      <th></th>\n",
       "      <th>ProductID</th>\n",
       "      <th>ProductName</th>\n",
       "      <th>UnitCost</th>\n",
       "      <th>Category</th>\n",
       "      <th>Brand</th>\n",
       "    </tr>\n",
       "  </thead>\n",
       "  <tbody>\n",
       "    <tr>\n",
       "      <th>0</th>\n",
       "      <td>85123A</td>\n",
       "      <td>WHITE HANGING HEART T-LIGHT HOLDER</td>\n",
       "      <td>2.55</td>\n",
       "      <td>Miscellaneous</td>\n",
       "      <td>Carter, Richardson and Frazier</td>\n",
       "    </tr>\n",
       "    <tr>\n",
       "      <th>1</th>\n",
       "      <td>71053</td>\n",
       "      <td>WHITE METAL LANTERN</td>\n",
       "      <td>3.39</td>\n",
       "      <td>Miscellaneous</td>\n",
       "      <td>Smith, Scott and Obrien</td>\n",
       "    </tr>\n",
       "    <tr>\n",
       "      <th>2</th>\n",
       "      <td>84406B</td>\n",
       "      <td>CREAM CUPID HEARTS COAT HANGER</td>\n",
       "      <td>2.75</td>\n",
       "      <td>Miscellaneous</td>\n",
       "      <td>Ware-Sellers</td>\n",
       "    </tr>\n",
       "    <tr>\n",
       "      <th>3</th>\n",
       "      <td>84029G</td>\n",
       "      <td>KNITTED UNION FLAG HOT WATER BOTTLE</td>\n",
       "      <td>3.39</td>\n",
       "      <td>Miscellaneous</td>\n",
       "      <td>Liu, Moss and Garcia</td>\n",
       "    </tr>\n",
       "    <tr>\n",
       "      <th>4</th>\n",
       "      <td>84029E</td>\n",
       "      <td>RED WOOLLY HOTTIE WHITE HEART.</td>\n",
       "      <td>3.39</td>\n",
       "      <td>Miscellaneous</td>\n",
       "      <td>Bailey, Salazar and Phillips</td>\n",
       "    </tr>\n",
       "  </tbody>\n",
       "</table>\n",
       "</div>"
      ],
      "text/plain": [
       "  ProductID                          ProductName  UnitCost       Category  \\\n",
       "0    85123A   WHITE HANGING HEART T-LIGHT HOLDER      2.55  Miscellaneous   \n",
       "1     71053                  WHITE METAL LANTERN      3.39  Miscellaneous   \n",
       "2    84406B       CREAM CUPID HEARTS COAT HANGER      2.75  Miscellaneous   \n",
       "3    84029G  KNITTED UNION FLAG HOT WATER BOTTLE      3.39  Miscellaneous   \n",
       "4    84029E       RED WOOLLY HOTTIE WHITE HEART.      3.39  Miscellaneous   \n",
       "\n",
       "                            Brand  \n",
       "0  Carter, Richardson and Frazier  \n",
       "1         Smith, Scott and Obrien  \n",
       "2                    Ware-Sellers  \n",
       "3            Liu, Moss and Garcia  \n",
       "4    Bailey, Salazar and Phillips  "
      ]
     },
     "metadata": {},
     "output_type": "display_data"
    },
    {
     "name": "stdout",
     "output_type": "stream",
     "text": [
      "--------------------------------------------------------------------------------\n",
      "\n",
      "--- Previewing Dataset: STOREDIM ---\n",
      "StoreDim — 38 rows × 5 columns loaded.\n",
      "\n"
     ]
    },
    {
     "data": {
      "application/vnd.microsoft.datawrangler.viewer.v0+json": {
       "columns": [
        {
         "name": "index",
         "rawType": "int64",
         "type": "integer"
        },
        {
         "name": "Country",
         "rawType": "object",
         "type": "string"
        },
        {
         "name": "StoreID",
         "rawType": "int64",
         "type": "integer"
        },
        {
         "name": "StoreName",
         "rawType": "object",
         "type": "string"
        },
        {
         "name": "Channel",
         "rawType": "object",
         "type": "string"
        },
        {
         "name": "City",
         "rawType": "object",
         "type": "string"
        }
       ],
       "ref": "ce15c426-6e35-45d8-bd5e-2039270c6d26",
       "rows": [
        [
         "0",
         "United Kingdom",
         "1",
         "Online Store - United Kingdom",
         "Online",
         "Marianmouth"
        ],
        [
         "1",
         "France",
         "2",
         "Online Store - France",
         "Online",
         "North Teresa"
        ],
        [
         "2",
         "Australia",
         "3",
         "Online Store - Australia",
         "Online",
         "Aguilarport"
        ],
        [
         "3",
         "Netherlands",
         "4",
         "Online Store - Netherlands",
         "Online",
         "East Stephanie"
        ],
        [
         "4",
         "Germany",
         "5",
         "Online Store - Germany",
         "Online",
         "Jamestown"
        ]
       ],
       "shape": {
        "columns": 5,
        "rows": 5
       }
      },
      "text/html": [
       "<div>\n",
       "<style scoped>\n",
       "    .dataframe tbody tr th:only-of-type {\n",
       "        vertical-align: middle;\n",
       "    }\n",
       "\n",
       "    .dataframe tbody tr th {\n",
       "        vertical-align: top;\n",
       "    }\n",
       "\n",
       "    .dataframe thead th {\n",
       "        text-align: right;\n",
       "    }\n",
       "</style>\n",
       "<table border=\"1\" class=\"dataframe\">\n",
       "  <thead>\n",
       "    <tr style=\"text-align: right;\">\n",
       "      <th></th>\n",
       "      <th>Country</th>\n",
       "      <th>StoreID</th>\n",
       "      <th>StoreName</th>\n",
       "      <th>Channel</th>\n",
       "      <th>City</th>\n",
       "    </tr>\n",
       "  </thead>\n",
       "  <tbody>\n",
       "    <tr>\n",
       "      <th>0</th>\n",
       "      <td>United Kingdom</td>\n",
       "      <td>1</td>\n",
       "      <td>Online Store - United Kingdom</td>\n",
       "      <td>Online</td>\n",
       "      <td>Marianmouth</td>\n",
       "    </tr>\n",
       "    <tr>\n",
       "      <th>1</th>\n",
       "      <td>France</td>\n",
       "      <td>2</td>\n",
       "      <td>Online Store - France</td>\n",
       "      <td>Online</td>\n",
       "      <td>North Teresa</td>\n",
       "    </tr>\n",
       "    <tr>\n",
       "      <th>2</th>\n",
       "      <td>Australia</td>\n",
       "      <td>3</td>\n",
       "      <td>Online Store - Australia</td>\n",
       "      <td>Online</td>\n",
       "      <td>Aguilarport</td>\n",
       "    </tr>\n",
       "    <tr>\n",
       "      <th>3</th>\n",
       "      <td>Netherlands</td>\n",
       "      <td>4</td>\n",
       "      <td>Online Store - Netherlands</td>\n",
       "      <td>Online</td>\n",
       "      <td>East Stephanie</td>\n",
       "    </tr>\n",
       "    <tr>\n",
       "      <th>4</th>\n",
       "      <td>Germany</td>\n",
       "      <td>5</td>\n",
       "      <td>Online Store - Germany</td>\n",
       "      <td>Online</td>\n",
       "      <td>Jamestown</td>\n",
       "    </tr>\n",
       "  </tbody>\n",
       "</table>\n",
       "</div>"
      ],
      "text/plain": [
       "          Country  StoreID                      StoreName Channel  \\\n",
       "0  United Kingdom        1  Online Store - United Kingdom  Online   \n",
       "1          France        2          Online Store - France  Online   \n",
       "2       Australia        3       Online Store - Australia  Online   \n",
       "3     Netherlands        4     Online Store - Netherlands  Online   \n",
       "4         Germany        5         Online Store - Germany  Online   \n",
       "\n",
       "             City  \n",
       "0     Marianmouth  \n",
       "1    North Teresa  \n",
       "2     Aguilarport  \n",
       "3  East Stephanie  \n",
       "4       Jamestown  "
      ]
     },
     "metadata": {},
     "output_type": "display_data"
    },
    {
     "name": "stdout",
     "output_type": "stream",
     "text": [
      "--------------------------------------------------------------------------------\n",
      "\n",
      "--- Previewing Dataset: TIMEDIM ---\n",
      "TimeDim — 305 rows × 7 columns loaded.\n",
      "\n"
     ]
    },
    {
     "data": {
      "application/vnd.microsoft.datawrangler.viewer.v0+json": {
       "columns": [
        {
         "name": "index",
         "rawType": "int64",
         "type": "integer"
        },
        {
         "name": "TimeID",
         "rawType": "int64",
         "type": "integer"
        },
        {
         "name": "FullDate",
         "rawType": "object",
         "type": "string"
        },
        {
         "name": "Day",
         "rawType": "int64",
         "type": "integer"
        },
        {
         "name": "Month",
         "rawType": "int64",
         "type": "integer"
        },
        {
         "name": "Quarter",
         "rawType": "int64",
         "type": "integer"
        },
        {
         "name": "Year",
         "rawType": "int64",
         "type": "integer"
        },
        {
         "name": "WeekOfYear",
         "rawType": "int64",
         "type": "integer"
        }
       ],
       "ref": "6c7c57c3-daa2-4411-93c6-da4ca650ea4a",
       "rows": [
        [
         "0",
         "20241201",
         "2024-12-01",
         "1",
         "12",
         "4",
         "2024",
         "48"
        ],
        [
         "1",
         "20241202",
         "2024-12-02",
         "2",
         "12",
         "4",
         "2024",
         "49"
        ],
        [
         "2",
         "20241203",
         "2024-12-03",
         "3",
         "12",
         "4",
         "2024",
         "49"
        ],
        [
         "3",
         "20241205",
         "2024-12-05",
         "5",
         "12",
         "4",
         "2024",
         "49"
        ],
        [
         "4",
         "20241206",
         "2024-12-06",
         "6",
         "12",
         "4",
         "2024",
         "49"
        ]
       ],
       "shape": {
        "columns": 7,
        "rows": 5
       }
      },
      "text/html": [
       "<div>\n",
       "<style scoped>\n",
       "    .dataframe tbody tr th:only-of-type {\n",
       "        vertical-align: middle;\n",
       "    }\n",
       "\n",
       "    .dataframe tbody tr th {\n",
       "        vertical-align: top;\n",
       "    }\n",
       "\n",
       "    .dataframe thead th {\n",
       "        text-align: right;\n",
       "    }\n",
       "</style>\n",
       "<table border=\"1\" class=\"dataframe\">\n",
       "  <thead>\n",
       "    <tr style=\"text-align: right;\">\n",
       "      <th></th>\n",
       "      <th>TimeID</th>\n",
       "      <th>FullDate</th>\n",
       "      <th>Day</th>\n",
       "      <th>Month</th>\n",
       "      <th>Quarter</th>\n",
       "      <th>Year</th>\n",
       "      <th>WeekOfYear</th>\n",
       "    </tr>\n",
       "  </thead>\n",
       "  <tbody>\n",
       "    <tr>\n",
       "      <th>0</th>\n",
       "      <td>20241201</td>\n",
       "      <td>2024-12-01</td>\n",
       "      <td>1</td>\n",
       "      <td>12</td>\n",
       "      <td>4</td>\n",
       "      <td>2024</td>\n",
       "      <td>48</td>\n",
       "    </tr>\n",
       "    <tr>\n",
       "      <th>1</th>\n",
       "      <td>20241202</td>\n",
       "      <td>2024-12-02</td>\n",
       "      <td>2</td>\n",
       "      <td>12</td>\n",
       "      <td>4</td>\n",
       "      <td>2024</td>\n",
       "      <td>49</td>\n",
       "    </tr>\n",
       "    <tr>\n",
       "      <th>2</th>\n",
       "      <td>20241203</td>\n",
       "      <td>2024-12-03</td>\n",
       "      <td>3</td>\n",
       "      <td>12</td>\n",
       "      <td>4</td>\n",
       "      <td>2024</td>\n",
       "      <td>49</td>\n",
       "    </tr>\n",
       "    <tr>\n",
       "      <th>3</th>\n",
       "      <td>20241205</td>\n",
       "      <td>2024-12-05</td>\n",
       "      <td>5</td>\n",
       "      <td>12</td>\n",
       "      <td>4</td>\n",
       "      <td>2024</td>\n",
       "      <td>49</td>\n",
       "    </tr>\n",
       "    <tr>\n",
       "      <th>4</th>\n",
       "      <td>20241206</td>\n",
       "      <td>2024-12-06</td>\n",
       "      <td>6</td>\n",
       "      <td>12</td>\n",
       "      <td>4</td>\n",
       "      <td>2024</td>\n",
       "      <td>49</td>\n",
       "    </tr>\n",
       "  </tbody>\n",
       "</table>\n",
       "</div>"
      ],
      "text/plain": [
       "     TimeID    FullDate  Day  Month  Quarter  Year  WeekOfYear\n",
       "0  20241201  2024-12-01    1     12        4  2024          48\n",
       "1  20241202  2024-12-02    2     12        4  2024          49\n",
       "2  20241203  2024-12-03    3     12        4  2024          49\n",
       "3  20241205  2024-12-05    5     12        4  2024          49\n",
       "4  20241206  2024-12-06    6     12        4  2024          49"
      ]
     },
     "metadata": {},
     "output_type": "display_data"
    },
    {
     "name": "stdout",
     "output_type": "stream",
     "text": [
      "--------------------------------------------------------------------------------\n"
     ]
    }
   ],
   "source": [
    "# Loop through each dataset in the dictionary\n",
    "for name, df in datasets.items():\n",
    "    # Print dataset name and its dimensions\n",
    "    print(f\"\\n--- Previewing Dataset: {name.upper()} ---\")\n",
    "    print(f\"{name} — {df.shape[0]} rows × {df.shape[1]} columns loaded.\\n\")\n",
    "    \n",
    "    # Display the first 5 rows of the dataset\n",
    "    display(df.head())\n",
    "    \n",
    "    # Add a line separator for clarity\n",
    "    print(\"-\" * 80)\n"
   ]
  },
  {
   "cell_type": "markdown",
   "id": "1ad25748",
   "metadata": {},
   "source": [
    "# *T-Transform*\n",
    "### *Transformation Strategy*\n",
    "\n",
    "*Following the full extraction, we proceeded with a`* ***Full Transformation*** *approach. Each dataset was fully inspected and cleaned independently to ensure data quality and consistency before merging.*\n"
   ]
  },
  {
   "cell_type": "markdown",
   "id": "6d8b3b31",
   "metadata": {},
   "source": [
    "### *Inspecting Dataset*"
   ]
  },
  {
   "cell_type": "code",
   "execution_count": 12,
   "id": "31086d70",
   "metadata": {},
   "outputs": [
    {
     "name": "stdout",
     "output_type": "stream",
     "text": [
      "\n",
      "--- Structure of Dataset: CUSTOMERDIM ---\n",
      "\n",
      "<class 'pandas.core.frame.DataFrame'>\n",
      "RangeIndex: 4389 entries, 0 to 4388\n",
      "Data columns (total 7 columns):\n",
      " #   Column         Non-Null Count  Dtype  \n",
      "---  ------         --------------  -----  \n",
      " 0   CustomerID     4380 non-null   float64\n",
      " 1   Country        4389 non-null   object \n",
      " 2   CustomerName   4389 non-null   object \n",
      " 3   City           4389 non-null   object \n",
      " 4   Gender         4389 non-null   object \n",
      " 5   Age            4389 non-null   int64  \n",
      " 6   CustomerSince  4389 non-null   object \n",
      "dtypes: float64(1), int64(1), object(5)\n",
      "memory usage: 240.2+ KB\n",
      "\n",
      "--------------------------------------------------------------------------------\n",
      "\n",
      "--- Structure of Dataset: FACTSALES ---\n",
      "\n",
      "<class 'pandas.core.frame.DataFrame'>\n",
      "RangeIndex: 541909 entries, 0 to 541908\n",
      "Data columns (total 10 columns):\n",
      " #   Column       Non-Null Count   Dtype  \n",
      "---  ------       --------------   -----  \n",
      " 0   InvoiceNo    541909 non-null  object \n",
      " 1   InvoiceDate  541909 non-null  object \n",
      " 2   TimeID       541909 non-null  int64  \n",
      " 3   ProductID    541909 non-null  object \n",
      " 4   CustomerID   406829 non-null  float64\n",
      " 5   StoreID      541909 non-null  int64  \n",
      " 6   Quantity     541909 non-null  int64  \n",
      " 7   UnitPrice    541909 non-null  float64\n",
      " 8   Discount     541909 non-null  int64  \n",
      " 9   TotalSales   541909 non-null  float64\n",
      "dtypes: float64(3), int64(4), object(3)\n",
      "memory usage: 41.3+ MB\n",
      "\n",
      "--------------------------------------------------------------------------------\n",
      "\n",
      "--- Structure of Dataset: PRODUCTDIM ---\n",
      "\n",
      "<class 'pandas.core.frame.DataFrame'>\n",
      "RangeIndex: 18053 entries, 0 to 18052\n",
      "Data columns (total 5 columns):\n",
      " #   Column       Non-Null Count  Dtype  \n",
      "---  ------       --------------  -----  \n",
      " 0   ProductID    18053 non-null  object \n",
      " 1   ProductName  17093 non-null  object \n",
      " 2   UnitCost     18053 non-null  float64\n",
      " 3   Category     18053 non-null  object \n",
      " 4   Brand        18053 non-null  object \n",
      "dtypes: float64(1), object(4)\n",
      "memory usage: 705.3+ KB\n",
      "\n",
      "--------------------------------------------------------------------------------\n",
      "\n",
      "--- Structure of Dataset: STOREDIM ---\n",
      "\n",
      "<class 'pandas.core.frame.DataFrame'>\n",
      "RangeIndex: 38 entries, 0 to 37\n",
      "Data columns (total 5 columns):\n",
      " #   Column     Non-Null Count  Dtype \n",
      "---  ------     --------------  ----- \n",
      " 0   Country    38 non-null     object\n",
      " 1   StoreID    38 non-null     int64 \n",
      " 2   StoreName  38 non-null     object\n",
      " 3   Channel    38 non-null     object\n",
      " 4   City       38 non-null     object\n",
      "dtypes: int64(1), object(4)\n",
      "memory usage: 1.6+ KB\n",
      "\n",
      "--------------------------------------------------------------------------------\n",
      "\n",
      "--- Structure of Dataset: TIMEDIM ---\n",
      "\n",
      "<class 'pandas.core.frame.DataFrame'>\n",
      "RangeIndex: 305 entries, 0 to 304\n",
      "Data columns (total 7 columns):\n",
      " #   Column      Non-Null Count  Dtype \n",
      "---  ------      --------------  ----- \n",
      " 0   TimeID      305 non-null    int64 \n",
      " 1   FullDate    305 non-null    object\n",
      " 2   Day         305 non-null    int64 \n",
      " 3   Month       305 non-null    int64 \n",
      " 4   Quarter     305 non-null    int64 \n",
      " 5   Year        305 non-null    int64 \n",
      " 6   WeekOfYear  305 non-null    int64 \n",
      "dtypes: int64(6), object(1)\n",
      "memory usage: 16.8+ KB\n",
      "\n",
      "--------------------------------------------------------------------------------\n"
     ]
    }
   ],
   "source": [
    "# Iterate through each dataset and display info\n",
    "for name, df in datasets.items(): # Looping through each key-value pair in the datasets dictionary\n",
    "    print(f\"\\n--- Structure of Dataset: {name.upper()} ---\\n\") # Printing the dataset name in uppercase for clarity\n",
    "    df.info() # Displaying concise summary of the DataFrame (columns, types, non-null counts, memory usage)\n",
    "    print(\"\\n\" + \"-\" * 80) # Printing a separator line for readability between datasets"
   ]
  },
  {
   "cell_type": "markdown",
   "id": "49e4ca82",
   "metadata": {},
   "source": [
    "\n",
    "---\n",
    "\n",
    "*The datasets show the structure and basic data quality of each table:*\n",
    "\n",
    "* *CustomerDim contains 4,389 unique customers with some missing CustomerID values and date fields stored as strings.*\n",
    "\n",
    "* *FactSales holds 541,909 sales transactions with some missing CustomerIDs and InvoiceDate as a string.*\n",
    "\n",
    "* *ProductDim includes 18,053 products, with some missing product names.*\n",
    "\n",
    "* *StoreDim has 38 stores with complete data.*\n",
    "\n",
    "* *TimeDim consists of 305 unique dates with date columns mostly as integers but FullDate as a string.*\n",
    "\n",
    "*Overall, the data structure is consistent and ready for cleaning and transformation during ETL.*\n"
   ]
  },
  {
   "cell_type": "markdown",
   "id": "4654d501",
   "metadata": {},
   "source": [
    "\n",
    "### *Transformation Step-by-Step*"
   ]
  }
 ],
 "metadata": {
  "kernelspec": {
   "display_name": ".end-sem (3.11.9)",
   "language": "python",
   "name": "python3"
  },
  "language_info": {
   "codemirror_mode": {
    "name": "ipython",
    "version": 3
   },
   "file_extension": ".py",
   "mimetype": "text/x-python",
   "name": "python",
   "nbconvert_exporter": "python",
   "pygments_lexer": "ipython3",
   "version": "3.11.9"
  }
 },
 "nbformat": 4,
 "nbformat_minor": 5
}
