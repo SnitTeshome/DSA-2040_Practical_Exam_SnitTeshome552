{
 "cells": [
  {
   "cell_type": "markdown",
   "id": "6f8cbfa7",
   "metadata": {},
   "source": [
    "# *Task 3: Classification and Association Rule Mining*"
   ]
  },
  {
   "cell_type": "markdown",
   "id": "49b06a3e",
   "metadata": {},
   "source": [
    "## *Loading Libraries*"
   ]
  },
  {
   "cell_type": "code",
   "execution_count": 32,
   "id": "2409bf0f",
   "metadata": {},
   "outputs": [],
   "source": [
    "import os\n",
    "import pandas as pd\n",
    "import numpy as np\n",
    "import random\n",
    "import seaborn as sns\n",
    "import matplotlib.pyplot as plt\n",
    "from sklearn.model_selection import train_test_split\n",
    "from sklearn.preprocessing import LabelEncoder\n",
    "from sklearn.metrics import confusion_matrix\n",
    "from sklearn.tree import DecisionTreeClassifier, plot_tree\n",
    "from sklearn.neighbors import KNeighborsClassifier\n",
    "from sklearn.metrics import classification_report, accuracy_score"
   ]
  },
  {
   "cell_type": "markdown",
   "id": "cd8f2183",
   "metadata": {},
   "source": [
    "## *Part A:Decision Tree classifier*"
   ]
  },
  {
   "cell_type": "markdown",
   "id": "556de17f",
   "metadata": {},
   "source": [
    "## *Loading Data*"
   ]
  },
  {
   "cell_type": "code",
   "execution_count": 33,
   "id": "b3089269",
   "metadata": {},
   "outputs": [
    {
     "name": "stdout",
     "output_type": "stream",
     "text": [
      "Data preview:\n"
     ]
    },
    {
     "data": {
      "application/vnd.microsoft.datawrangler.viewer.v0+json": {
       "columns": [
        {
         "name": "index",
         "rawType": "int64",
         "type": "integer"
        },
        {
         "name": "sepal length (cm)",
         "rawType": "float64",
         "type": "float"
        },
        {
         "name": "sepal width (cm)",
         "rawType": "float64",
         "type": "float"
        },
        {
         "name": "petal length (cm)",
         "rawType": "float64",
         "type": "float"
        },
        {
         "name": "petal width (cm)",
         "rawType": "float64",
         "type": "float"
        },
        {
         "name": "species",
         "rawType": "object",
         "type": "string"
        }
       ],
       "ref": "1f8a1fb4-4e3a-4dc3-a0d0-b908e3199959",
       "rows": [
        [
         "0",
         "0.2222222222222221",
         "0.625",
         "0.0677966101694915",
         "0.0416666666666666",
         "setosa"
        ],
        [
         "1",
         "0.1666666666666667",
         "0.4166666666666667",
         "0.0677966101694915",
         "0.0416666666666666",
         "setosa"
        ],
        [
         "2",
         "0.1111111111111111",
         "0.5",
         "0.0508474576271186",
         "0.0416666666666666",
         "setosa"
        ],
        [
         "3",
         "0.0833333333333332",
         "0.4583333333333332",
         "0.0847457627118644",
         "0.0416666666666666",
         "setosa"
        ],
        [
         "4",
         "0.1944444444444444",
         "0.6666666666666667",
         "0.0677966101694915",
         "0.0416666666666666",
         "setosa"
        ]
       ],
       "shape": {
        "columns": 5,
        "rows": 5
       }
      },
      "text/html": [
       "<div>\n",
       "<style scoped>\n",
       "    .dataframe tbody tr th:only-of-type {\n",
       "        vertical-align: middle;\n",
       "    }\n",
       "\n",
       "    .dataframe tbody tr th {\n",
       "        vertical-align: top;\n",
       "    }\n",
       "\n",
       "    .dataframe thead th {\n",
       "        text-align: right;\n",
       "    }\n",
       "</style>\n",
       "<table border=\"1\" class=\"dataframe\">\n",
       "  <thead>\n",
       "    <tr style=\"text-align: right;\">\n",
       "      <th></th>\n",
       "      <th>sepal length (cm)</th>\n",
       "      <th>sepal width (cm)</th>\n",
       "      <th>petal length (cm)</th>\n",
       "      <th>petal width (cm)</th>\n",
       "      <th>species</th>\n",
       "    </tr>\n",
       "  </thead>\n",
       "  <tbody>\n",
       "    <tr>\n",
       "      <th>0</th>\n",
       "      <td>0.222222</td>\n",
       "      <td>0.625000</td>\n",
       "      <td>0.067797</td>\n",
       "      <td>0.041667</td>\n",
       "      <td>setosa</td>\n",
       "    </tr>\n",
       "    <tr>\n",
       "      <th>1</th>\n",
       "      <td>0.166667</td>\n",
       "      <td>0.416667</td>\n",
       "      <td>0.067797</td>\n",
       "      <td>0.041667</td>\n",
       "      <td>setosa</td>\n",
       "    </tr>\n",
       "    <tr>\n",
       "      <th>2</th>\n",
       "      <td>0.111111</td>\n",
       "      <td>0.500000</td>\n",
       "      <td>0.050847</td>\n",
       "      <td>0.041667</td>\n",
       "      <td>setosa</td>\n",
       "    </tr>\n",
       "    <tr>\n",
       "      <th>3</th>\n",
       "      <td>0.083333</td>\n",
       "      <td>0.458333</td>\n",
       "      <td>0.084746</td>\n",
       "      <td>0.041667</td>\n",
       "      <td>setosa</td>\n",
       "    </tr>\n",
       "    <tr>\n",
       "      <th>4</th>\n",
       "      <td>0.194444</td>\n",
       "      <td>0.666667</td>\n",
       "      <td>0.067797</td>\n",
       "      <td>0.041667</td>\n",
       "      <td>setosa</td>\n",
       "    </tr>\n",
       "  </tbody>\n",
       "</table>\n",
       "</div>"
      ],
      "text/plain": [
       "   sepal length (cm)  sepal width (cm)  petal length (cm)  petal width (cm)  \\\n",
       "0           0.222222          0.625000           0.067797          0.041667   \n",
       "1           0.166667          0.416667           0.067797          0.041667   \n",
       "2           0.111111          0.500000           0.050847          0.041667   \n",
       "3           0.083333          0.458333           0.084746          0.041667   \n",
       "4           0.194444          0.666667           0.067797          0.041667   \n",
       "\n",
       "  species  \n",
       "0  setosa  \n",
       "1  setosa  \n",
       "2  setosa  \n",
       "3  setosa  \n",
       "4  setosa  "
      ]
     },
     "execution_count": 33,
     "metadata": {},
     "output_type": "execute_result"
    }
   ],
   "source": [
    "# Relative path from Task_2_Clustering to the CSV\n",
    "file_path = r\"..\\Task_1_Data_Preprocessing_Exploration\\iris_preprocessed.csv\"\n",
    "\n",
    "# Load the data\n",
    "iris_df = pd.read_csv(file_path)\n",
    "\n",
    "# Optional: preview\n",
    "print(\"Data preview:\")\n",
    "iris_df .head()"
   ]
  },
  {
   "cell_type": "markdown",
   "id": "d2d5b316",
   "metadata": {},
   "source": [
    "## *Splitting the dataset into training and testing sets*"
   ]
  },
  {
   "cell_type": "code",
   "execution_count": 34,
   "id": "8d270948",
   "metadata": {},
   "outputs": [
    {
     "name": "stdout",
     "output_type": "stream",
     "text": [
      "Training set size: 116\n",
      "Testing set size: 30\n"
     ]
    }
   ],
   "source": [
    "# Separate features and labels\n",
    "X = iris_df.drop(columns=[\"species\"])\n",
    "y = iris_df[\"species\"]\n",
    "X_train, X_test, y_train, y_test = train_test_split(X, y, test_size=0.2, random_state=42)\n",
    "print(\"Training set size:\", X_train.shape[0])\n",
    "print(\"Testing set size:\", X_test.shape[0])"
   ]
  },
  {
   "cell_type": "code",
   "execution_count": 35,
   "id": "38316471",
   "metadata": {},
   "outputs": [
    {
     "name": "stdout",
     "output_type": "stream",
     "text": [
      "\n",
      "Train features shape: (116, 4)\n",
      "Test features shape: (30, 4)\n"
     ]
    }
   ],
   "source": [
    "print(\"\\nTrain features shape:\", X_train.shape)\n",
    "print(\"Test features shape:\", X_test.shape)"
   ]
  },
  {
   "cell_type": "markdown",
   "id": "75e5af0d",
   "metadata": {},
   "source": [
    "## *Further split Train-set into new Train-set and Validation-set*"
   ]
  },
  {
   "cell_type": "code",
   "execution_count": 36,
   "id": "25f518ae",
   "metadata": {},
   "outputs": [],
   "source": [
    "# Further split the training data into training and validation sets (80% training, 20% validation)X\n",
    "X_train, X_val, y_train, y_val = train_test_split(X_train,y_train,test_size=0.2 ,random_state=42) "
   ]
  },
  {
   "cell_type": "code",
   "execution_count": 37,
   "id": "9f40e0f5",
   "metadata": {},
   "outputs": [
    {
     "name": "stdout",
     "output_type": "stream",
     "text": [
      "sepal length (cm)    float64\n",
      "sepal width (cm)     float64\n",
      "petal length (cm)    float64\n",
      "petal width (cm)     float64\n",
      "dtype: object\n",
      "object\n"
     ]
    }
   ],
   "source": [
    "# Check if features are numeric\n",
    "print(X.dtypes)\n",
    "# \n",
    "# Check if target is numeric\n",
    "print(y.dtype)"
   ]
  },
  {
   "cell_type": "markdown",
   "id": "c78ae4bb",
   "metadata": {},
   "source": [
    "### *Encoding the target variable*"
   ]
  },
  {
   "cell_type": "code",
   "execution_count": 38,
   "id": "22aee648",
   "metadata": {},
   "outputs": [],
   "source": [
    "le = LabelEncoder()\n",
    "# Fit on the training target and transform\n",
    "y_train_encoded = le.fit_transform(y_train)\n",
    "y_test_encoded = le.transform(y_test)\n",
    "y_val_encoded = le.transform(y_val)  # encode validation labels"
   ]
  },
  {
   "cell_type": "markdown",
   "id": "af33148a",
   "metadata": {},
   "source": [
    "### *Base Line Model*\n",
    "*Now lets start by Base Line Model which is used to predict:how well you'd do if your model always predicted the majority class (the class with the most samples).*"
   ]
  },
  {
   "cell_type": "code",
   "execution_count": 39,
   "id": "4ba5442d",
   "metadata": {},
   "outputs": [
    {
     "name": "stdout",
     "output_type": "stream",
     "text": [
      "Baseline Accuracy: 0.36\n"
     ]
    }
   ],
   "source": [
    "acc_baseline = y_train.value_counts(normalize=True).max()\n",
    "print(\"Baseline Accuracy:\", round(acc_baseline, 2))"
   ]
  },
  {
   "cell_type": "markdown",
   "id": "899c6046",
   "metadata": {},
   "source": [
    "### *Interpreation*\n",
    "\n",
    "*This means that if your model were to always predict the majority class (whichever class has 36% of the samples), it would achieve an accuracy of 36%.*\n"
   ]
  },
  {
   "cell_type": "markdown",
   "id": "639346c8",
   "metadata": {},
   "source": [
    "## *Build Model*"
   ]
  },
  {
   "cell_type": "markdown",
   "id": "03c82486",
   "metadata": {},
   "source": [
    "### *Fitting the Model*"
   ]
  },
  {
   "cell_type": "code",
   "execution_count": 40,
   "id": "f86ca627",
   "metadata": {},
   "outputs": [
    {
     "data": {
      "text/html": [
       "<style>#sk-container-id-2 {\n",
       "  /* Definition of color scheme common for light and dark mode */\n",
       "  --sklearn-color-text: #000;\n",
       "  --sklearn-color-text-muted: #666;\n",
       "  --sklearn-color-line: gray;\n",
       "  /* Definition of color scheme for unfitted estimators */\n",
       "  --sklearn-color-unfitted-level-0: #fff5e6;\n",
       "  --sklearn-color-unfitted-level-1: #f6e4d2;\n",
       "  --sklearn-color-unfitted-level-2: #ffe0b3;\n",
       "  --sklearn-color-unfitted-level-3: chocolate;\n",
       "  /* Definition of color scheme for fitted estimators */\n",
       "  --sklearn-color-fitted-level-0: #f0f8ff;\n",
       "  --sklearn-color-fitted-level-1: #d4ebff;\n",
       "  --sklearn-color-fitted-level-2: #b3dbfd;\n",
       "  --sklearn-color-fitted-level-3: cornflowerblue;\n",
       "\n",
       "  /* Specific color for light theme */\n",
       "  --sklearn-color-text-on-default-background: var(--sg-text-color, var(--theme-code-foreground, var(--jp-content-font-color1, black)));\n",
       "  --sklearn-color-background: var(--sg-background-color, var(--theme-background, var(--jp-layout-color0, white)));\n",
       "  --sklearn-color-border-box: var(--sg-text-color, var(--theme-code-foreground, var(--jp-content-font-color1, black)));\n",
       "  --sklearn-color-icon: #696969;\n",
       "\n",
       "  @media (prefers-color-scheme: dark) {\n",
       "    /* Redefinition of color scheme for dark theme */\n",
       "    --sklearn-color-text-on-default-background: var(--sg-text-color, var(--theme-code-foreground, var(--jp-content-font-color1, white)));\n",
       "    --sklearn-color-background: var(--sg-background-color, var(--theme-background, var(--jp-layout-color0, #111)));\n",
       "    --sklearn-color-border-box: var(--sg-text-color, var(--theme-code-foreground, var(--jp-content-font-color1, white)));\n",
       "    --sklearn-color-icon: #878787;\n",
       "  }\n",
       "}\n",
       "\n",
       "#sk-container-id-2 {\n",
       "  color: var(--sklearn-color-text);\n",
       "}\n",
       "\n",
       "#sk-container-id-2 pre {\n",
       "  padding: 0;\n",
       "}\n",
       "\n",
       "#sk-container-id-2 input.sk-hidden--visually {\n",
       "  border: 0;\n",
       "  clip: rect(1px 1px 1px 1px);\n",
       "  clip: rect(1px, 1px, 1px, 1px);\n",
       "  height: 1px;\n",
       "  margin: -1px;\n",
       "  overflow: hidden;\n",
       "  padding: 0;\n",
       "  position: absolute;\n",
       "  width: 1px;\n",
       "}\n",
       "\n",
       "#sk-container-id-2 div.sk-dashed-wrapped {\n",
       "  border: 1px dashed var(--sklearn-color-line);\n",
       "  margin: 0 0.4em 0.5em 0.4em;\n",
       "  box-sizing: border-box;\n",
       "  padding-bottom: 0.4em;\n",
       "  background-color: var(--sklearn-color-background);\n",
       "}\n",
       "\n",
       "#sk-container-id-2 div.sk-container {\n",
       "  /* jupyter's `normalize.less` sets `[hidden] { display: none; }`\n",
       "     but bootstrap.min.css set `[hidden] { display: none !important; }`\n",
       "     so we also need the `!important` here to be able to override the\n",
       "     default hidden behavior on the sphinx rendered scikit-learn.org.\n",
       "     See: https://github.com/scikit-learn/scikit-learn/issues/21755 */\n",
       "  display: inline-block !important;\n",
       "  position: relative;\n",
       "}\n",
       "\n",
       "#sk-container-id-2 div.sk-text-repr-fallback {\n",
       "  display: none;\n",
       "}\n",
       "\n",
       "div.sk-parallel-item,\n",
       "div.sk-serial,\n",
       "div.sk-item {\n",
       "  /* draw centered vertical line to link estimators */\n",
       "  background-image: linear-gradient(var(--sklearn-color-text-on-default-background), var(--sklearn-color-text-on-default-background));\n",
       "  background-size: 2px 100%;\n",
       "  background-repeat: no-repeat;\n",
       "  background-position: center center;\n",
       "}\n",
       "\n",
       "/* Parallel-specific style estimator block */\n",
       "\n",
       "#sk-container-id-2 div.sk-parallel-item::after {\n",
       "  content: \"\";\n",
       "  width: 100%;\n",
       "  border-bottom: 2px solid var(--sklearn-color-text-on-default-background);\n",
       "  flex-grow: 1;\n",
       "}\n",
       "\n",
       "#sk-container-id-2 div.sk-parallel {\n",
       "  display: flex;\n",
       "  align-items: stretch;\n",
       "  justify-content: center;\n",
       "  background-color: var(--sklearn-color-background);\n",
       "  position: relative;\n",
       "}\n",
       "\n",
       "#sk-container-id-2 div.sk-parallel-item {\n",
       "  display: flex;\n",
       "  flex-direction: column;\n",
       "}\n",
       "\n",
       "#sk-container-id-2 div.sk-parallel-item:first-child::after {\n",
       "  align-self: flex-end;\n",
       "  width: 50%;\n",
       "}\n",
       "\n",
       "#sk-container-id-2 div.sk-parallel-item:last-child::after {\n",
       "  align-self: flex-start;\n",
       "  width: 50%;\n",
       "}\n",
       "\n",
       "#sk-container-id-2 div.sk-parallel-item:only-child::after {\n",
       "  width: 0;\n",
       "}\n",
       "\n",
       "/* Serial-specific style estimator block */\n",
       "\n",
       "#sk-container-id-2 div.sk-serial {\n",
       "  display: flex;\n",
       "  flex-direction: column;\n",
       "  align-items: center;\n",
       "  background-color: var(--sklearn-color-background);\n",
       "  padding-right: 1em;\n",
       "  padding-left: 1em;\n",
       "}\n",
       "\n",
       "\n",
       "/* Toggleable style: style used for estimator/Pipeline/ColumnTransformer box that is\n",
       "clickable and can be expanded/collapsed.\n",
       "- Pipeline and ColumnTransformer use this feature and define the default style\n",
       "- Estimators will overwrite some part of the style using the `sk-estimator` class\n",
       "*/\n",
       "\n",
       "/* Pipeline and ColumnTransformer style (default) */\n",
       "\n",
       "#sk-container-id-2 div.sk-toggleable {\n",
       "  /* Default theme specific background. It is overwritten whether we have a\n",
       "  specific estimator or a Pipeline/ColumnTransformer */\n",
       "  background-color: var(--sklearn-color-background);\n",
       "}\n",
       "\n",
       "/* Toggleable label */\n",
       "#sk-container-id-2 label.sk-toggleable__label {\n",
       "  cursor: pointer;\n",
       "  display: flex;\n",
       "  width: 100%;\n",
       "  margin-bottom: 0;\n",
       "  padding: 0.5em;\n",
       "  box-sizing: border-box;\n",
       "  text-align: center;\n",
       "  align-items: start;\n",
       "  justify-content: space-between;\n",
       "  gap: 0.5em;\n",
       "}\n",
       "\n",
       "#sk-container-id-2 label.sk-toggleable__label .caption {\n",
       "  font-size: 0.6rem;\n",
       "  font-weight: lighter;\n",
       "  color: var(--sklearn-color-text-muted);\n",
       "}\n",
       "\n",
       "#sk-container-id-2 label.sk-toggleable__label-arrow:before {\n",
       "  /* Arrow on the left of the label */\n",
       "  content: \"▸\";\n",
       "  float: left;\n",
       "  margin-right: 0.25em;\n",
       "  color: var(--sklearn-color-icon);\n",
       "}\n",
       "\n",
       "#sk-container-id-2 label.sk-toggleable__label-arrow:hover:before {\n",
       "  color: var(--sklearn-color-text);\n",
       "}\n",
       "\n",
       "/* Toggleable content - dropdown */\n",
       "\n",
       "#sk-container-id-2 div.sk-toggleable__content {\n",
       "  display: none;\n",
       "  text-align: left;\n",
       "  /* unfitted */\n",
       "  background-color: var(--sklearn-color-unfitted-level-0);\n",
       "}\n",
       "\n",
       "#sk-container-id-2 div.sk-toggleable__content.fitted {\n",
       "  /* fitted */\n",
       "  background-color: var(--sklearn-color-fitted-level-0);\n",
       "}\n",
       "\n",
       "#sk-container-id-2 div.sk-toggleable__content pre {\n",
       "  margin: 0.2em;\n",
       "  border-radius: 0.25em;\n",
       "  color: var(--sklearn-color-text);\n",
       "  /* unfitted */\n",
       "  background-color: var(--sklearn-color-unfitted-level-0);\n",
       "}\n",
       "\n",
       "#sk-container-id-2 div.sk-toggleable__content.fitted pre {\n",
       "  /* unfitted */\n",
       "  background-color: var(--sklearn-color-fitted-level-0);\n",
       "}\n",
       "\n",
       "#sk-container-id-2 input.sk-toggleable__control:checked~div.sk-toggleable__content {\n",
       "  /* Expand drop-down */\n",
       "  display: block;\n",
       "  width: 100%;\n",
       "  overflow: visible;\n",
       "}\n",
       "\n",
       "#sk-container-id-2 input.sk-toggleable__control:checked~label.sk-toggleable__label-arrow:before {\n",
       "  content: \"▾\";\n",
       "}\n",
       "\n",
       "/* Pipeline/ColumnTransformer-specific style */\n",
       "\n",
       "#sk-container-id-2 div.sk-label input.sk-toggleable__control:checked~label.sk-toggleable__label {\n",
       "  color: var(--sklearn-color-text);\n",
       "  background-color: var(--sklearn-color-unfitted-level-2);\n",
       "}\n",
       "\n",
       "#sk-container-id-2 div.sk-label.fitted input.sk-toggleable__control:checked~label.sk-toggleable__label {\n",
       "  background-color: var(--sklearn-color-fitted-level-2);\n",
       "}\n",
       "\n",
       "/* Estimator-specific style */\n",
       "\n",
       "/* Colorize estimator box */\n",
       "#sk-container-id-2 div.sk-estimator input.sk-toggleable__control:checked~label.sk-toggleable__label {\n",
       "  /* unfitted */\n",
       "  background-color: var(--sklearn-color-unfitted-level-2);\n",
       "}\n",
       "\n",
       "#sk-container-id-2 div.sk-estimator.fitted input.sk-toggleable__control:checked~label.sk-toggleable__label {\n",
       "  /* fitted */\n",
       "  background-color: var(--sklearn-color-fitted-level-2);\n",
       "}\n",
       "\n",
       "#sk-container-id-2 div.sk-label label.sk-toggleable__label,\n",
       "#sk-container-id-2 div.sk-label label {\n",
       "  /* The background is the default theme color */\n",
       "  color: var(--sklearn-color-text-on-default-background);\n",
       "}\n",
       "\n",
       "/* On hover, darken the color of the background */\n",
       "#sk-container-id-2 div.sk-label:hover label.sk-toggleable__label {\n",
       "  color: var(--sklearn-color-text);\n",
       "  background-color: var(--sklearn-color-unfitted-level-2);\n",
       "}\n",
       "\n",
       "/* Label box, darken color on hover, fitted */\n",
       "#sk-container-id-2 div.sk-label.fitted:hover label.sk-toggleable__label.fitted {\n",
       "  color: var(--sklearn-color-text);\n",
       "  background-color: var(--sklearn-color-fitted-level-2);\n",
       "}\n",
       "\n",
       "/* Estimator label */\n",
       "\n",
       "#sk-container-id-2 div.sk-label label {\n",
       "  font-family: monospace;\n",
       "  font-weight: bold;\n",
       "  display: inline-block;\n",
       "  line-height: 1.2em;\n",
       "}\n",
       "\n",
       "#sk-container-id-2 div.sk-label-container {\n",
       "  text-align: center;\n",
       "}\n",
       "\n",
       "/* Estimator-specific */\n",
       "#sk-container-id-2 div.sk-estimator {\n",
       "  font-family: monospace;\n",
       "  border: 1px dotted var(--sklearn-color-border-box);\n",
       "  border-radius: 0.25em;\n",
       "  box-sizing: border-box;\n",
       "  margin-bottom: 0.5em;\n",
       "  /* unfitted */\n",
       "  background-color: var(--sklearn-color-unfitted-level-0);\n",
       "}\n",
       "\n",
       "#sk-container-id-2 div.sk-estimator.fitted {\n",
       "  /* fitted */\n",
       "  background-color: var(--sklearn-color-fitted-level-0);\n",
       "}\n",
       "\n",
       "/* on hover */\n",
       "#sk-container-id-2 div.sk-estimator:hover {\n",
       "  /* unfitted */\n",
       "  background-color: var(--sklearn-color-unfitted-level-2);\n",
       "}\n",
       "\n",
       "#sk-container-id-2 div.sk-estimator.fitted:hover {\n",
       "  /* fitted */\n",
       "  background-color: var(--sklearn-color-fitted-level-2);\n",
       "}\n",
       "\n",
       "/* Specification for estimator info (e.g. \"i\" and \"?\") */\n",
       "\n",
       "/* Common style for \"i\" and \"?\" */\n",
       "\n",
       ".sk-estimator-doc-link,\n",
       "a:link.sk-estimator-doc-link,\n",
       "a:visited.sk-estimator-doc-link {\n",
       "  float: right;\n",
       "  font-size: smaller;\n",
       "  line-height: 1em;\n",
       "  font-family: monospace;\n",
       "  background-color: var(--sklearn-color-background);\n",
       "  border-radius: 1em;\n",
       "  height: 1em;\n",
       "  width: 1em;\n",
       "  text-decoration: none !important;\n",
       "  margin-left: 0.5em;\n",
       "  text-align: center;\n",
       "  /* unfitted */\n",
       "  border: var(--sklearn-color-unfitted-level-1) 1pt solid;\n",
       "  color: var(--sklearn-color-unfitted-level-1);\n",
       "}\n",
       "\n",
       ".sk-estimator-doc-link.fitted,\n",
       "a:link.sk-estimator-doc-link.fitted,\n",
       "a:visited.sk-estimator-doc-link.fitted {\n",
       "  /* fitted */\n",
       "  border: var(--sklearn-color-fitted-level-1) 1pt solid;\n",
       "  color: var(--sklearn-color-fitted-level-1);\n",
       "}\n",
       "\n",
       "/* On hover */\n",
       "div.sk-estimator:hover .sk-estimator-doc-link:hover,\n",
       ".sk-estimator-doc-link:hover,\n",
       "div.sk-label-container:hover .sk-estimator-doc-link:hover,\n",
       ".sk-estimator-doc-link:hover {\n",
       "  /* unfitted */\n",
       "  background-color: var(--sklearn-color-unfitted-level-3);\n",
       "  color: var(--sklearn-color-background);\n",
       "  text-decoration: none;\n",
       "}\n",
       "\n",
       "div.sk-estimator.fitted:hover .sk-estimator-doc-link.fitted:hover,\n",
       ".sk-estimator-doc-link.fitted:hover,\n",
       "div.sk-label-container:hover .sk-estimator-doc-link.fitted:hover,\n",
       ".sk-estimator-doc-link.fitted:hover {\n",
       "  /* fitted */\n",
       "  background-color: var(--sklearn-color-fitted-level-3);\n",
       "  color: var(--sklearn-color-background);\n",
       "  text-decoration: none;\n",
       "}\n",
       "\n",
       "/* Span, style for the box shown on hovering the info icon */\n",
       ".sk-estimator-doc-link span {\n",
       "  display: none;\n",
       "  z-index: 9999;\n",
       "  position: relative;\n",
       "  font-weight: normal;\n",
       "  right: .2ex;\n",
       "  padding: .5ex;\n",
       "  margin: .5ex;\n",
       "  width: min-content;\n",
       "  min-width: 20ex;\n",
       "  max-width: 50ex;\n",
       "  color: var(--sklearn-color-text);\n",
       "  box-shadow: 2pt 2pt 4pt #999;\n",
       "  /* unfitted */\n",
       "  background: var(--sklearn-color-unfitted-level-0);\n",
       "  border: .5pt solid var(--sklearn-color-unfitted-level-3);\n",
       "}\n",
       "\n",
       ".sk-estimator-doc-link.fitted span {\n",
       "  /* fitted */\n",
       "  background: var(--sklearn-color-fitted-level-0);\n",
       "  border: var(--sklearn-color-fitted-level-3);\n",
       "}\n",
       "\n",
       ".sk-estimator-doc-link:hover span {\n",
       "  display: block;\n",
       "}\n",
       "\n",
       "/* \"?\"-specific style due to the `<a>` HTML tag */\n",
       "\n",
       "#sk-container-id-2 a.estimator_doc_link {\n",
       "  float: right;\n",
       "  font-size: 1rem;\n",
       "  line-height: 1em;\n",
       "  font-family: monospace;\n",
       "  background-color: var(--sklearn-color-background);\n",
       "  border-radius: 1rem;\n",
       "  height: 1rem;\n",
       "  width: 1rem;\n",
       "  text-decoration: none;\n",
       "  /* unfitted */\n",
       "  color: var(--sklearn-color-unfitted-level-1);\n",
       "  border: var(--sklearn-color-unfitted-level-1) 1pt solid;\n",
       "}\n",
       "\n",
       "#sk-container-id-2 a.estimator_doc_link.fitted {\n",
       "  /* fitted */\n",
       "  border: var(--sklearn-color-fitted-level-1) 1pt solid;\n",
       "  color: var(--sklearn-color-fitted-level-1);\n",
       "}\n",
       "\n",
       "/* On hover */\n",
       "#sk-container-id-2 a.estimator_doc_link:hover {\n",
       "  /* unfitted */\n",
       "  background-color: var(--sklearn-color-unfitted-level-3);\n",
       "  color: var(--sklearn-color-background);\n",
       "  text-decoration: none;\n",
       "}\n",
       "\n",
       "#sk-container-id-2 a.estimator_doc_link.fitted:hover {\n",
       "  /* fitted */\n",
       "  background-color: var(--sklearn-color-fitted-level-3);\n",
       "}\n",
       "\n",
       ".estimator-table summary {\n",
       "    padding: .5rem;\n",
       "    font-family: monospace;\n",
       "    cursor: pointer;\n",
       "}\n",
       "\n",
       ".estimator-table details[open] {\n",
       "    padding-left: 0.1rem;\n",
       "    padding-right: 0.1rem;\n",
       "    padding-bottom: 0.3rem;\n",
       "}\n",
       "\n",
       ".estimator-table .parameters-table {\n",
       "    margin-left: auto !important;\n",
       "    margin-right: auto !important;\n",
       "}\n",
       "\n",
       ".estimator-table .parameters-table tr:nth-child(odd) {\n",
       "    background-color: #fff;\n",
       "}\n",
       "\n",
       ".estimator-table .parameters-table tr:nth-child(even) {\n",
       "    background-color: #f6f6f6;\n",
       "}\n",
       "\n",
       ".estimator-table .parameters-table tr:hover {\n",
       "    background-color: #e0e0e0;\n",
       "}\n",
       "\n",
       ".estimator-table table td {\n",
       "    border: 1px solid rgba(106, 105, 104, 0.232);\n",
       "}\n",
       "\n",
       ".user-set td {\n",
       "    color:rgb(255, 94, 0);\n",
       "    text-align: left;\n",
       "}\n",
       "\n",
       ".user-set td.value pre {\n",
       "    color:rgb(255, 94, 0) !important;\n",
       "    background-color: transparent !important;\n",
       "}\n",
       "\n",
       ".default td {\n",
       "    color: black;\n",
       "    text-align: left;\n",
       "}\n",
       "\n",
       ".user-set td i,\n",
       ".default td i {\n",
       "    color: black;\n",
       "}\n",
       "\n",
       ".copy-paste-icon {\n",
       "    background-image: url(data:image/svg+xml;base64,PHN2ZyB4bWxucz0iaHR0cDovL3d3dy53My5vcmcvMjAwMC9zdmciIHZpZXdCb3g9IjAgMCA0NDggNTEyIj48IS0tIUZvbnQgQXdlc29tZSBGcmVlIDYuNy4yIGJ5IEBmb250YXdlc29tZSAtIGh0dHBzOi8vZm9udGF3ZXNvbWUuY29tIExpY2Vuc2UgLSBodHRwczovL2ZvbnRhd2Vzb21lLmNvbS9saWNlbnNlL2ZyZWUgQ29weXJpZ2h0IDIwMjUgRm9udGljb25zLCBJbmMuLS0+PHBhdGggZD0iTTIwOCAwTDMzMi4xIDBjMTIuNyAwIDI0LjkgNS4xIDMzLjkgMTQuMWw2Ny45IDY3LjljOSA5IDE0LjEgMjEuMiAxNC4xIDMzLjlMNDQ4IDMzNmMwIDI2LjUtMjEuNSA0OC00OCA0OGwtMTkyIDBjLTI2LjUgMC00OC0yMS41LTQ4LTQ4bDAtMjg4YzAtMjYuNSAyMS41LTQ4IDQ4LTQ4ek00OCAxMjhsODAgMCAwIDY0LTY0IDAgMCAyNTYgMTkyIDAgMC0zMiA2NCAwIDAgNDhjMCAyNi41LTIxLjUgNDgtNDggNDhMNDggNTEyYy0yNi41IDAtNDgtMjEuNS00OC00OEwwIDE3NmMwLTI2LjUgMjEuNS00OCA0OC00OHoiLz48L3N2Zz4=);\n",
       "    background-repeat: no-repeat;\n",
       "    background-size: 14px 14px;\n",
       "    background-position: 0;\n",
       "    display: inline-block;\n",
       "    width: 14px;\n",
       "    height: 14px;\n",
       "    cursor: pointer;\n",
       "}\n",
       "</style><body><div id=\"sk-container-id-2\" class=\"sk-top-container\"><div class=\"sk-text-repr-fallback\"><pre>DecisionTreeClassifier(random_state=42)</pre><b>In a Jupyter environment, please rerun this cell to show the HTML representation or trust the notebook. <br />On GitHub, the HTML representation is unable to render, please try loading this page with nbviewer.org.</b></div><div class=\"sk-container\" hidden><div class=\"sk-item\"><div class=\"sk-estimator fitted sk-toggleable\"><input class=\"sk-toggleable__control sk-hidden--visually\" id=\"sk-estimator-id-2\" type=\"checkbox\" checked><label for=\"sk-estimator-id-2\" class=\"sk-toggleable__label fitted sk-toggleable__label-arrow\"><div><div>DecisionTreeClassifier</div></div><div><a class=\"sk-estimator-doc-link fitted\" rel=\"noreferrer\" target=\"_blank\" href=\"https://scikit-learn.org/1.7/modules/generated/sklearn.tree.DecisionTreeClassifier.html\">?<span>Documentation for DecisionTreeClassifier</span></a><span class=\"sk-estimator-doc-link fitted\">i<span>Fitted</span></span></div></label><div class=\"sk-toggleable__content fitted\" data-param-prefix=\"\">\n",
       "        <div class=\"estimator-table\">\n",
       "            <details>\n",
       "                <summary>Parameters</summary>\n",
       "                <table class=\"parameters-table\">\n",
       "                  <tbody>\n",
       "                    \n",
       "        <tr class=\"default\">\n",
       "            <td><i class=\"copy-paste-icon\"\n",
       "                 onclick=\"copyToClipboard('criterion',\n",
       "                          this.parentElement.nextElementSibling)\"\n",
       "            ></i></td>\n",
       "            <td class=\"param\">criterion&nbsp;</td>\n",
       "            <td class=\"value\">&#x27;gini&#x27;</td>\n",
       "        </tr>\n",
       "    \n",
       "\n",
       "        <tr class=\"default\">\n",
       "            <td><i class=\"copy-paste-icon\"\n",
       "                 onclick=\"copyToClipboard('splitter',\n",
       "                          this.parentElement.nextElementSibling)\"\n",
       "            ></i></td>\n",
       "            <td class=\"param\">splitter&nbsp;</td>\n",
       "            <td class=\"value\">&#x27;best&#x27;</td>\n",
       "        </tr>\n",
       "    \n",
       "\n",
       "        <tr class=\"default\">\n",
       "            <td><i class=\"copy-paste-icon\"\n",
       "                 onclick=\"copyToClipboard('max_depth',\n",
       "                          this.parentElement.nextElementSibling)\"\n",
       "            ></i></td>\n",
       "            <td class=\"param\">max_depth&nbsp;</td>\n",
       "            <td class=\"value\">None</td>\n",
       "        </tr>\n",
       "    \n",
       "\n",
       "        <tr class=\"default\">\n",
       "            <td><i class=\"copy-paste-icon\"\n",
       "                 onclick=\"copyToClipboard('min_samples_split',\n",
       "                          this.parentElement.nextElementSibling)\"\n",
       "            ></i></td>\n",
       "            <td class=\"param\">min_samples_split&nbsp;</td>\n",
       "            <td class=\"value\">2</td>\n",
       "        </tr>\n",
       "    \n",
       "\n",
       "        <tr class=\"default\">\n",
       "            <td><i class=\"copy-paste-icon\"\n",
       "                 onclick=\"copyToClipboard('min_samples_leaf',\n",
       "                          this.parentElement.nextElementSibling)\"\n",
       "            ></i></td>\n",
       "            <td class=\"param\">min_samples_leaf&nbsp;</td>\n",
       "            <td class=\"value\">1</td>\n",
       "        </tr>\n",
       "    \n",
       "\n",
       "        <tr class=\"default\">\n",
       "            <td><i class=\"copy-paste-icon\"\n",
       "                 onclick=\"copyToClipboard('min_weight_fraction_leaf',\n",
       "                          this.parentElement.nextElementSibling)\"\n",
       "            ></i></td>\n",
       "            <td class=\"param\">min_weight_fraction_leaf&nbsp;</td>\n",
       "            <td class=\"value\">0.0</td>\n",
       "        </tr>\n",
       "    \n",
       "\n",
       "        <tr class=\"default\">\n",
       "            <td><i class=\"copy-paste-icon\"\n",
       "                 onclick=\"copyToClipboard('max_features',\n",
       "                          this.parentElement.nextElementSibling)\"\n",
       "            ></i></td>\n",
       "            <td class=\"param\">max_features&nbsp;</td>\n",
       "            <td class=\"value\">None</td>\n",
       "        </tr>\n",
       "    \n",
       "\n",
       "        <tr class=\"user-set\">\n",
       "            <td><i class=\"copy-paste-icon\"\n",
       "                 onclick=\"copyToClipboard('random_state',\n",
       "                          this.parentElement.nextElementSibling)\"\n",
       "            ></i></td>\n",
       "            <td class=\"param\">random_state&nbsp;</td>\n",
       "            <td class=\"value\">42</td>\n",
       "        </tr>\n",
       "    \n",
       "\n",
       "        <tr class=\"default\">\n",
       "            <td><i class=\"copy-paste-icon\"\n",
       "                 onclick=\"copyToClipboard('max_leaf_nodes',\n",
       "                          this.parentElement.nextElementSibling)\"\n",
       "            ></i></td>\n",
       "            <td class=\"param\">max_leaf_nodes&nbsp;</td>\n",
       "            <td class=\"value\">None</td>\n",
       "        </tr>\n",
       "    \n",
       "\n",
       "        <tr class=\"default\">\n",
       "            <td><i class=\"copy-paste-icon\"\n",
       "                 onclick=\"copyToClipboard('min_impurity_decrease',\n",
       "                          this.parentElement.nextElementSibling)\"\n",
       "            ></i></td>\n",
       "            <td class=\"param\">min_impurity_decrease&nbsp;</td>\n",
       "            <td class=\"value\">0.0</td>\n",
       "        </tr>\n",
       "    \n",
       "\n",
       "        <tr class=\"default\">\n",
       "            <td><i class=\"copy-paste-icon\"\n",
       "                 onclick=\"copyToClipboard('class_weight',\n",
       "                          this.parentElement.nextElementSibling)\"\n",
       "            ></i></td>\n",
       "            <td class=\"param\">class_weight&nbsp;</td>\n",
       "            <td class=\"value\">None</td>\n",
       "        </tr>\n",
       "    \n",
       "\n",
       "        <tr class=\"default\">\n",
       "            <td><i class=\"copy-paste-icon\"\n",
       "                 onclick=\"copyToClipboard('ccp_alpha',\n",
       "                          this.parentElement.nextElementSibling)\"\n",
       "            ></i></td>\n",
       "            <td class=\"param\">ccp_alpha&nbsp;</td>\n",
       "            <td class=\"value\">0.0</td>\n",
       "        </tr>\n",
       "    \n",
       "\n",
       "        <tr class=\"default\">\n",
       "            <td><i class=\"copy-paste-icon\"\n",
       "                 onclick=\"copyToClipboard('monotonic_cst',\n",
       "                          this.parentElement.nextElementSibling)\"\n",
       "            ></i></td>\n",
       "            <td class=\"param\">monotonic_cst&nbsp;</td>\n",
       "            <td class=\"value\">None</td>\n",
       "        </tr>\n",
       "    \n",
       "                  </tbody>\n",
       "                </table>\n",
       "            </details>\n",
       "        </div>\n",
       "    </div></div></div></div></div><script>function copyToClipboard(text, element) {\n",
       "    // Get the parameter prefix from the closest toggleable content\n",
       "    const toggleableContent = element.closest('.sk-toggleable__content');\n",
       "    const paramPrefix = toggleableContent ? toggleableContent.dataset.paramPrefix : '';\n",
       "    const fullParamName = paramPrefix ? `${paramPrefix}${text}` : text;\n",
       "\n",
       "    const originalStyle = element.style;\n",
       "    const computedStyle = window.getComputedStyle(element);\n",
       "    const originalWidth = computedStyle.width;\n",
       "    const originalHTML = element.innerHTML.replace('Copied!', '');\n",
       "\n",
       "    navigator.clipboard.writeText(fullParamName)\n",
       "        .then(() => {\n",
       "            element.style.width = originalWidth;\n",
       "            element.style.color = 'green';\n",
       "            element.innerHTML = \"Copied!\";\n",
       "\n",
       "            setTimeout(() => {\n",
       "                element.innerHTML = originalHTML;\n",
       "                element.style = originalStyle;\n",
       "            }, 2000);\n",
       "        })\n",
       "        .catch(err => {\n",
       "            console.error('Failed to copy:', err);\n",
       "            element.style.color = 'red';\n",
       "            element.innerHTML = \"Failed!\";\n",
       "            setTimeout(() => {\n",
       "                element.innerHTML = originalHTML;\n",
       "                element.style = originalStyle;\n",
       "            }, 2000);\n",
       "        });\n",
       "    return false;\n",
       "}\n",
       "\n",
       "document.querySelectorAll('.fa-regular.fa-copy').forEach(function(element) {\n",
       "    const toggleableContent = element.closest('.sk-toggleable__content');\n",
       "    const paramPrefix = toggleableContent ? toggleableContent.dataset.paramPrefix : '';\n",
       "    const paramName = element.parentElement.nextElementSibling.textContent.trim();\n",
       "    const fullParamName = paramPrefix ? `${paramPrefix}${paramName}` : paramName;\n",
       "\n",
       "    element.setAttribute('title', fullParamName);\n",
       "});\n",
       "</script></body>"
      ],
      "text/plain": [
       "DecisionTreeClassifier(random_state=42)"
      ]
     },
     "execution_count": 40,
     "metadata": {},
     "output_type": "execute_result"
    }
   ],
   "source": [
    "# Train the model\n",
    "model = DecisionTreeClassifier(random_state=42)\n",
    "# Fit the model\n",
    "model.fit(X_train, y_train_encoded)"
   ]
  },
  {
   "cell_type": "markdown",
   "id": "b39ddf9e",
   "metadata": {},
   "source": [
    "## *Predictions*"
   ]
  },
  {
   "cell_type": "markdown",
   "id": "5c67133f",
   "metadata": {},
   "source": [
    "### *Predictions on Training set*"
   ]
  },
  {
   "cell_type": "code",
   "execution_count": 41,
   "id": "6d4baed0",
   "metadata": {},
   "outputs": [],
   "source": [
    "# Make predictions:\n",
    "# Predictions on training set\n",
    "y_pred_train = model.predict(X_train)\n",
    "acc_train = accuracy_score(y_train_encoded, y_pred_train)  # use encoded labels"
   ]
  },
  {
   "cell_type": "markdown",
   "id": "db40be2f",
   "metadata": {},
   "source": [
    "### *Predictions on Testing set*"
   ]
  },
  {
   "cell_type": "code",
   "execution_count": 42,
   "id": "375a6559",
   "metadata": {},
   "outputs": [],
   "source": [
    "# Predictions on test set\n",
    "y_pred_test = model.predict(X_test)\n",
    "acc_test = accuracy_score(y_test_encoded, y_pred_test)  # use encoded labels"
   ]
  },
  {
   "cell_type": "markdown",
   "id": "23825615",
   "metadata": {},
   "source": [
    "## *Test of the model*"
   ]
  },
  {
   "cell_type": "code",
   "execution_count": 43,
   "id": "3acc7d57",
   "metadata": {},
   "outputs": [
    {
     "name": "stdout",
     "output_type": "stream",
     "text": [
      "Training Accuracy: 1.0\n",
      "Test Accuracy: 0.93\n"
     ]
    }
   ],
   "source": [
    "print(\"Training Accuracy:\", round(acc_train, 2))\n",
    "print(\"Test Accuracy:\", round(acc_test, 2))"
   ]
  },
  {
   "cell_type": "markdown",
   "id": "26ffd414",
   "metadata": {},
   "source": [
    "##### *Description*\n",
    "*The Decision Tree model achieved **perfect training accuracy (1.0)**, indicating it fit the training data very well. However, the **test accuracy is slightly lower (0.93)**, which suggests a minor overfitting: the model captures the training patterns completely but does not generalize perfectly to unseen data. Overall, a test accuracy of 0.93 is still very strong for this dataset, showing that the model effectively learned the main structure and distinctions among Iris species.*\n"
   ]
  },
  {
   "cell_type": "markdown",
   "id": "3fc824d5",
   "metadata": {},
   "source": [
    "#### *Description*\n",
    "---\n",
    "*`Hyperparameter tuning` was not performed extensively because the baseline Decision Tree model already achieved excellent performance, with a training accuracy of 1.0 and a test accuracy of 0.93. This indicates that the model fits the training data perfectly while generalizing well to unseen data. Given the small and clean nature of the Iris dataset, further tuning of parameters such as tree depth or splitting criteria would likely yield minimal improvement and could risk overfitting. Therefore, the current model was deemed sufficient for accurate classification without additional hyperparameter optimization.*\n",
    "\n",
    "---\n",
    "\n"
   ]
  },
  {
   "cell_type": "markdown",
   "id": "74fa35b1",
   "metadata": {},
   "source": [
    "## *Confusion matrix*"
   ]
  },
  {
   "cell_type": "code",
   "execution_count": 44,
   "id": "ab62508a",
   "metadata": {},
   "outputs": [],
   "source": [
    "label_mapping = {0: 'setosa', 1: 'versicolor', 2: 'virginica'}  # adjust if needed\n",
    "y_pred_mapped = [label_mapping[i] for i in y_pred_test]  # convert numeric predictions to class names"
   ]
  },
  {
   "cell_type": "code",
   "execution_count": 45,
   "id": "80169adc",
   "metadata": {},
   "outputs": [
    {
     "data": {
      "image/png": "[encoded data removed]",
      "text/plain": [
       "<Figure size 640x480 with 2 Axes>"
      ]
     },
     "metadata": {},
     "output_type": "display_data"
    }
   ],
   "source": [
    "# Create confusion matrix\n",
    "conf_matrix = confusion_matrix(y_test, y_pred_mapped, labels=['setosa', 'virginica', 'versicolor'])\n",
    "\n",
    "# Plot confusion matrix with blue coloring\n",
    "sns.heatmap(conf_matrix, annot=True, fmt='d', cmap='Blues',\n",
    "            xticklabels=['setosa', 'virginica', 'versicolor'],\n",
    "            yticklabels=['setosa', 'virginica', 'versicolor'])\n",
    "\n",
    "plt.xlabel('Predicted')\n",
    "plt.ylabel('Actual')\n",
    "plt.title('Confusion Matrix')\n",
    "plt.show()\n"
   ]
  },
  {
   "cell_type": "markdown",
   "id": "f8a3aa0e",
   "metadata": {},
   "source": [
    "\n",
    "\n",
    "### *Confusion Matrix Interpretation (Iris Dataset)*\n",
    "\n",
    "*The confusion matrix compares **actual classes** (rows) vs **predicted classes** (columns).*\n",
    "\n",
    "| *Actual \\ Predicted* | *setosa* | *virginica* | *versicolor* |\n",
    "| -------------------- | -------- | ----------- | ------------ |\n",
    "| *setosa*             | 12       | 0           | 0            |\n",
    "| *virginica*          | 0        | 1           | 9            |\n",
    "| *versicolor*         | 0        | 7           | 1            |\n",
    "\n",
    "\n",
    "### *Key Insights*\n",
    "\n",
    "* *All **setosa** samples are correctly classified — the model easily separates this class.*\n",
    "* *The model struggles with **virginica** and **versicolor**: most samples are misclassified as each other, likely due to overlapping features.*\n",
    "* *Overall accuracy is low (\\~46.7%) because of these misclassifications.*\n",
    "* *Precision and recall for virginica and versicolor are very low (10–12.5%), showing poor class-specific performance.*\n",
    "\n",
    "---\n"
   ]
  },
  {
   "cell_type": "markdown",
   "id": "8daa9c6c",
   "metadata": {},
   "source": [
    "## *Classification report*"
   ]
  },
  {
   "cell_type": "code",
   "execution_count": 46,
   "id": "ee84ce1b",
   "metadata": {},
   "outputs": [
    {
     "name": "stdout",
     "output_type": "stream",
     "text": [
      "Decision Tree Classification Report:\n",
      "\n",
      "              precision    recall  f1-score   support\n",
      "\n",
      "      setosa       1.00      1.00      1.00        12\n",
      "  versicolor       0.88      0.88      0.88         8\n",
      "   virginica       0.90      0.90      0.90        10\n",
      "\n",
      "    accuracy                           0.93        30\n",
      "   macro avg       0.92      0.92      0.92        30\n",
      "weighted avg       0.93      0.93      0.93        30\n",
      "\n"
     ]
    }
   ],
   "source": [
    "print(\"Decision Tree Classification Report:\\n\")\n",
    "print(classification_report(y_test_encoded,  y_pred_test, target_names=le.classes_))"
   ]
  },
  {
   "cell_type": "markdown",
   "id": "c2e01f5a",
   "metadata": {},
   "source": [
    "\n",
    "\n",
    "### *Interpretation*\n",
    "\n",
    "*The classification report summarizes the performance of the decision tree on the test set (30 samples).*\n",
    "\n",
    "* *For **setosa**, the model achieves perfect performance (precision, recall, F1-score = 1.00), indicating all 12 samples were correctly classified.*\n",
    "* *For **versicolor**, precision, recall, and F1-score are all 0.88, showing most of the 8 samples were correctly predicted, with minor misclassifications.*\n",
    "* *For **virginica**, precision, recall, and F1-score are 0.90, indicating strong performance on the 10 samples.*\n",
    "* *Overall accuracy is 0.93, meaning 93% of the predictions on the test set are correct.*\n",
    "* *Macro average (unweighted mean across classes) is 0.92, and weighted average (accounting for class sizes) is 0.93, both reflecting high overall model performance.*\n",
    "\n",
    "*In short, the decision tree effectively separates the classes, with perfect classification for setosa and strong performance for versicolor and virginica.*\n",
    "\n"
   ]
  },
  {
   "cell_type": "markdown",
   "id": "d18b0460",
   "metadata": {},
   "source": [
    "## *Communication*"
   ]
  },
  {
   "cell_type": "code",
   "execution_count": 47,
   "id": "4cf64a19",
   "metadata": {},
   "outputs": [
    {
     "data": {
      "image/png": "[encoded data removed]",
      "text/plain": [
       "<Figure size 2000x1000 with 1 Axes>"
      ]
     },
     "metadata": {},
     "output_type": "display_data"
    }
   ],
   "source": [
    "# Create figure and axis\n",
    "fig, ax = plt.subplots(figsize=(20, 10))  # define ax here\n",
    "\n",
    "# Plot the Decision Tree on the axis\n",
    "plot_tree(\n",
    "    model,                       # your trained Decision Tree\n",
    "    feature_names=X_train.columns,\n",
    "    class_names=y_train.unique(),\n",
    "    filled=True,\n",
    "    rounded=True,\n",
    "    proportion=False,\n",
    "    max_depth=5,  # show full depth\n",
    "    fontsize=10\n",
    ",\n",
    "    ax=ax\n",
    ")\n",
    "# Set title using the defined axis\n",
    "ax.set_title(\"Decision Tree Visualization (Depth 5)\", fontsize=20)\n",
    "# Adjust layout\n",
    "plt.subplots_adjust(left=0.05, right=0.95, top=0.9, bottom=0.05)\n",
    "\n",
    "# Show the plot\n",
    "plt.show()"
   ]
  },
  {
   "cell_type": "markdown",
   "id": "589887ba",
   "metadata": {},
   "source": [
    "### *Decision Tree Interpretation (Depth 5)*\n",
    "---\n",
    "### *Why We Used 92 Samples in the First Step*\n",
    "\n",
    "* *The **92 samples** correspond to the **training set** after splitting the full dataset into **training (92 samples)** and **test/validation (28 samples)**.*\n",
    "* *Using only the training set ensures that the **model learns patterns without “seeing” the test data**, which allows us to fairly evaluate performance.*\n",
    "* *If we plotted or evaluated on all 120 samples, it would **leak test information** and artificially inflate accuracy, defeating the purpose of model evaluation.*\n",
    "\n",
    "\n",
    "1. *Root Node & Splitting*\n",
    "\n",
    "   * *The tree starts by splitting on **`petal length <= 0.246`**.*\n",
    "   * *The **Gini impurity** at the root is **0.686**, showing a highly mixed node with roughly equal distribution across the three classes.*\n",
    "   * *The **true branch** leads to a pure leaf (100% `virginica`), while the **false branch** continues splitting on features like `petal width` and `graph length`.*\n",
    "\n",
    "2. *Critical Splits & Leaf Nodes*\n",
    "\n",
    "   * *Thresholds like `petal width <= 0.688` and `graph length <= 0.188` separate the mixed classes effectively.*\n",
    "   * *Many leaf nodes have **Gini = 0.0**, indicating perfect classification for the samples they contain.*\n",
    "\n",
    "3. *Feature Importance*\n",
    "\n",
    "   * *Features **`petal length`** and **`graph length`** are the main discriminators in the tree.*\n",
    "   * *Other features contribute to finer splits, especially in leaves with few samples.*\n",
    "\n",
    "4. *Potential Issues*\n",
    "\n",
    "   * ***Overfitting**: Small threshold differences (e.g., `0.186` vs `0.188`) suggest sensitivity to minor training data variations.*\n",
    "   * ***Class imbalance in leaves**: Some nodes contain very few samples, potentially biasing splits.*\n",
    "\n",
    "5. *Actionable Insights*\n",
    "\n",
    "   * ***Optimal Depth**: Depth=5 already achieves pure leaves; deeper trees may overfit.*\n",
    "   * ***Validation Check**: Use test/validation accuracy to ensure generalization.*\n",
    "\n",
    "6. *Example Prediction Path*\n",
    "\n",
    "   * *Sample: `petal length = 0.3`, `petal width = 0.7`*\n",
    "   * *Decision path:*\n",
    "\n",
    "     1. *`petal length <= 0.246` → False*\n",
    "     2. *`petal width <= 0.688` → False*\n",
    "     3. *`graph length <= 0.188` → Classified as `serena` (likely `setosa`).*\n",
    "\n",
    "*Summary: Training on 92 samples ensures proper learning and generalization evaluation, while the tree visualization illustrates the learned decision rules based only on the training data.*\n",
    "\n",
    "---\n"
   ]
  },
  {
   "cell_type": "markdown",
   "id": "3d78dad9",
   "metadata": {},
   "source": [
    "## *KNN (k=5)*"
   ]
  },
  {
   "cell_type": "code",
   "execution_count": 48,
   "id": "c11bbc93",
   "metadata": {},
   "outputs": [],
   "source": [
    "# KNN (k=5)\n",
    "knn_model = KNeighborsClassifier(n_neighbors=5)\n",
    "knn_model.fit(X_train, y_train)\n",
    "y_pred_knn = knn_model.predict(X_test)"
   ]
  },
  {
   "cell_type": "code",
   "execution_count": 49,
   "id": "2e8fc746",
   "metadata": {},
   "outputs": [
    {
     "name": "stdout",
     "output_type": "stream",
     "text": [
      "KNN Classification Report:\n",
      "\n",
      "              precision    recall  f1-score   support\n",
      "\n",
      "      setosa       1.00      1.00      1.00        12\n",
      "  versicolor       0.89      1.00      0.94         8\n",
      "   virginica       1.00      0.90      0.95        10\n",
      "\n",
      "    accuracy                           0.97        30\n",
      "   macro avg       0.96      0.97      0.96        30\n",
      "weighted avg       0.97      0.97      0.97        30\n",
      "\n"
     ]
    }
   ],
   "source": [
    "print(\"KNN Classification Report:\\n\")\n",
    "print(classification_report(y_test, y_pred_knn, target_names=le.classes_))"
   ]
  },
  {
   "cell_type": "markdown",
   "id": "728c9a8d",
   "metadata": {},
   "source": [
    "\n",
    "---\n",
    "*The KNN classifier achieved an overall accuracy of 0.97 on the test set, indicating excellent performance. Examining the class-wise metrics:*\n",
    "\n",
    "* *Setosa:* Precision, recall, and F1-score are all 1.00, showing perfect classification with no misclassifications.\n",
    "* *Versicolor:* Precision is 0.89 and recall is 1.00, meaning all actual versicolor samples were correctly identified, though one prediction was slightly misassigned. The F1-score of 0.94 reflects this slight imbalance.\n",
    "* *Virginica:* Precision is 1.00, recall is 0.90, indicating that while all predicted virginica samples were correct, one actual virginica sample was misclassified. The F1-score is 0.95.\n",
    "\n",
    "*The macro average and weighted average F1-scores are 0.96 and 0.97, confirming strong and balanced performance across classes. Overall, KNN performs very well, slightly outperforming the Decision Tree in this instance, likely due to its non-parametric nature and ability to capture subtle boundaries between classes.*\n",
    "\n",
    "---\n"
   ]
  },
  {
   "cell_type": "markdown",
   "id": "b319337e",
   "metadata": {},
   "source": [
    "### *Compare Performance*"
   ]
  },
  {
   "cell_type": "code",
   "execution_count": 50,
   "id": "d728024e",
   "metadata": {},
   "outputs": [
    {
     "name": "stdout",
     "output_type": "stream",
     "text": [
      "Decision Tree Class-wise Metrics:\n",
      "\n",
      "Class: setosa       | Precision: 1.00 | Recall: 1.00 | F1-score: 1.00 | Support: 12.0\n",
      "Class: versicolor   | Precision: 0.88 | Recall: 0.88 | F1-score: 0.88 | Support: 8.0\n",
      "Class: virginica    | Precision: 0.90 | Recall: 0.90 | F1-score: 0.90 | Support: 10.0\n",
      "\n",
      "KNN Class-wise Metrics:\n",
      "\n",
      "Class: setosa       | Precision: 1.00 | Recall: 1.00 | F1-score: 1.00 | Support: 12.0\n",
      "Class: versicolor   | Precision: 0.89 | Recall: 1.00 | F1-score: 0.94 | Support: 8.0\n",
      "Class: virginica    | Precision: 1.00 | Recall: 0.90 | F1-score: 0.95 | Support: 10.0\n"
     ]
    }
   ],
   "source": [
    "from sklearn.metrics import classification_report\n",
    "\n",
    "# Generate classification report as dictionary\n",
    "dt_report = classification_report(y_test_encoded, y_pred_test, target_names=le.classes_, output_dict=True)\n",
    "knn_report = classification_report(y_test, y_pred_knn, target_names=le.classes_, output_dict=True)\n",
    "\n",
    "# Extract and print values using a for loop\n",
    "print(\"Decision Tree Class-wise Metrics:\\n\")\n",
    "for cls in le.classes_:\n",
    "    metrics = dt_report[cls]\n",
    "    print(f\"Class: {cls:12s} | Precision: {metrics['precision']:.2f} | Recall: {metrics['recall']:.2f} | F1-score: {metrics['f1-score']:.2f} | Support: {metrics['support']}\")\n",
    "\n",
    "print(\"\\nKNN Class-wise Metrics:\\n\")\n",
    "for cls in le.classes_:\n",
    "    metrics = knn_report[cls]\n",
    "    print(f\"Class: {cls:12s} | Precision: {metrics['precision']:.2f} | Recall: {metrics['recall']:.2f} | F1-score: {metrics['f1-score']:.2f} | Support: {metrics['support']}\")\n"
   ]
  },
  {
   "cell_type": "code",
   "execution_count": 51,
   "id": "0e6b41e8",
   "metadata": {},
   "outputs": [
    {
     "name": "stdout",
     "output_type": "stream",
     "text": [
      "\n",
      "Model Comparison (Overall Accuracy & F1-score):\n",
      "Decision Tree - Accuracy: 0.9333, F1: 0.9333\n",
      "KNN           - Accuracy: 0.9667, F1: 0.9668\n",
      "KNN performed better overall based on F1-score.\n"
     ]
    }
   ],
   "source": [
    "# Extract overall metrics (accuracy and weighted F1)\n",
    "dt_accuracy = dt_report['accuracy']\n",
    "dt_f1 = dt_report['weighted avg']['f1-score']\n",
    "\n",
    "knn_accuracy = knn_report['accuracy']\n",
    "knn_f1 = knn_report['weighted avg']['f1-score']\n",
    "\n",
    "# Compare Decision Tree and KNN\n",
    "print(\"\\nModel Comparison (Overall Accuracy & F1-score):\")\n",
    "print(f\"Decision Tree - Accuracy: {dt_accuracy:.4f}, F1: {dt_f1:.4f}\")\n",
    "print(f\"KNN           - Accuracy: {knn_accuracy:.4f}, F1: {knn_f1:.4f}\")\n",
    "\n",
    "if dt_f1 > knn_f1:\n",
    "    print(\"Decision Tree performed better overall based on F1-score.\")\n",
    "elif knn_f1 > dt_f1:\n",
    "    print(\"KNN performed better overall based on F1-score.\")\n",
    "else:\n",
    "    print(\"Both models performed equally well based on F1-score.\")\n"
   ]
  },
  {
   "cell_type": "markdown",
   "id": "53950e06",
   "metadata": {},
   "source": [
    "### *Insights*\n",
    "---\n",
    "\n",
    "*The overall accuracy and F1-score show how well each model performs across all classes on the test set.*\n",
    "\n",
    "*- Decision Tree achieved an accuracy of 0.9333 and an F1-score of 0.9333, indicating it correctly predicted roughly 93% of the samples and performed consistently across the classes.*\n",
    "*- KNN achieved a higher accuracy of 0.9667 and an F1-score of 0.9668, meaning it correctly classified about 97% of the samples and maintained slightly better balance between precision and recall for all classes.*\n",
    "\n",
    "*Conclusion:*\n",
    "*- KNN performed better overall based on F1-score, suggesting it handles the class boundaries more effectively and captures subtle differences in the features that distinguish the flower species.*\n",
    "*- The Decision Tree still performs well but is slightly less accurate and may struggle more with classes that have overlapping feature ranges (like versicolor and virginica).*\n",
    "\n",
    "*Insight:* *For this dataset, KNN is the stronger model, likely due to its ability to model smooth, non-linear decision boundaries compared to the piecewise splits of the Decision Tree.*\n",
    "\n",
    "\n",
    "---\n"
   ]
  },
  {
   "cell_type": "markdown",
   "id": "d360c681",
   "metadata": {},
   "source": [
    "# *Part-B Association Rule Mining*\n",
    "## *Step-1. Simulate  Synthetic Transactional Data*\n",
    "\n",
    "Generate Synthetic Transactional Data\n",
    "*This section generates `30 supermarket transactions.` Each transaction includes between `2 to 8 items` randomly selected from a pool of `30 unique grocery items.` To ensure reproducibility, a random seed is set. The resulting transactions are stored in a pandas DataFrame and saved as a CSV file for future use.*"
   ]
  },
  {
   "cell_type": "markdown",
   "id": "c051045e",
   "metadata": {},
   "source": [
    "### *Step 1: Define the item pool*"
   ]
  },
  {
   "cell_type": "code",
   "execution_count": 52,
   "id": "1418adac",
   "metadata": {},
   "outputs": [],
   "source": [
    "#Define the item pool\n",
    "item_pool = [   # List of 30 unique grocery items\n",
    "    'Milk', 'Bread', 'Butter', 'Eggs', 'Cheese', 'Apples', 'Bananas', 'Chicken',\n",
    "    'Beef', 'Fish', 'Rice', 'Pasta', 'Cereal', 'Juice', 'Soda', 'Yogurt',\n",
    "    'Tomatoes', 'Onions', 'Potatoes', 'Carrots', 'Cookies', 'Chips', 'Ice Cream',\n",
    "    'Coffee', 'Tea', 'Sugar', 'Flour', 'Salt', 'Pepper', 'Oil'\n",
    "]    \n",
    "# Add missing bundle items  \n",
    "item_pool = list(set(item_pool + ['chips'])) "
   ]
  },
  {
   "cell_type": "markdown",
   "id": "f9d59f05",
   "metadata": {},
   "source": [
    "### *Step 2: Define common frequent bundles*"
   ]
  },
  {
   "cell_type": "code",
   "execution_count": 53,
   "id": "36d45409",
   "metadata": {},
   "outputs": [],
   "source": [
    "frequent_bundles = [  \n",
    "    ['Milk', 'Bread'],  \n",
    "    ['Apples', 'Bananas', 'Yogurt'],  \n",
    "    ['Chicken', 'Rice', 'Beans'],  \n",
    "    ['Soda', 'Chips', 'Cookies'],  \n",
    "    ['Cheese', 'Butter', 'Eggs']  \n",
    "]"
   ]
  },
  {
   "cell_type": "markdown",
   "id": "e922fd90",
   "metadata": {},
   "source": [
    "### *Step 3: Generate synthetic transactions*"
   ]
  },
  {
   "cell_type": "code",
   "execution_count": 54,
   "id": "ddbe73a8",
   "metadata": {},
   "outputs": [],
   "source": [
    "import random\n",
    "random.seed(42)\n",
    "transactions = []\n",
    "for _ in range(30):\n",
    "    t = random.sample(item_pool, k=random.randint(3,8))\n",
    "    if random.random() < 0.5:  # 50% chance to include a frequent bundle\n",
    "        bundle = random.choice(frequent_bundles)\n",
    "        t = list(set(t + bundle))\n",
    "    transactions.append(t)"
   ]
  },
  {
   "cell_type": "code",
   "execution_count": 55,
   "id": "bf80656e",
   "metadata": {},
   "outputs": [
    {
     "name": "stdout",
     "output_type": "stream",
     "text": [
      "Raw transactions saved at: C:\\Users\\Snit Kahsay\\Desktop\\DSA-2040_Practical_Exam_SnitTeshome552\\Section_2\\Task-3_Classification_Association Rule Mining\\generated_raw.csv\n"
     ]
    }
   ],
   "source": [
    "# Folder path (ensure folder exists)\n",
    "file_path = r\"C:\\Users\\Snit Kahsay\\Desktop\\DSA-2040_Practical_Exam_SnitTeshome552\\Section_2\\Task-3_Classification_Association Rule Mining\\generated_raw.csv\"\n",
    "df_raw = pd.DataFrame({'Transaction': transactions})\n",
    "\n",
    "df_raw.to_csv(file_path, index=False)\n",
    "\n",
    "print(f\"Raw transactions saved at: {file_path}\")\n"
   ]
  },
  {
   "cell_type": "markdown",
   "id": "859259d7",
   "metadata": {},
   "source": [
    "### *Step 4: One-hot encode transactions*"
   ]
  },
  {
   "cell_type": "code",
   "execution_count": 56,
   "id": "c192a657",
   "metadata": {},
   "outputs": [],
   "source": [
    "all_items = sorted(item_pool)\n",
    "encoded_vals = []\n",
    "for t in transactions:\n",
    "    row = {item: (item in t) for item in all_items}\n",
    "    encoded_vals.append(row)\n",
    "\n",
    "df_transactions = pd.DataFrame(encoded_vals)"
   ]
  },
  {
   "cell_type": "markdown",
   "id": "bd1632fc",
   "metadata": {},
   "source": [
    "### *Step 5: Save the transactions as CSV*"
   ]
  },
  {
   "cell_type": "code",
   "execution_count": 57,
   "id": "652812dc",
   "metadata": {},
   "outputs": [
    {
     "name": "stdout",
     "output_type": "stream",
     "text": [
      "Transactions saved successfully at: C:\\Users\\Snit Kahsay\\Desktop\\DSA-2040_Practical_Exam_SnitTeshome552\\Section_2\\Task-3_Classification_Association Rule Mining\\generated_encoded.csv\n"
     ]
    }
   ],
   "source": [
    "# Specify the file path\n",
    "file_path = r\"C:\\Users\\Snit Kahsay\\Desktop\\DSA-2040_Practical_Exam_SnitTeshome552\\Section_2\\Task-3_Classification_Association Rule Mining\\generated_encoded.csv\"\n",
    "\n",
    "# Save as CSV\n",
    "df_transactions.to_csv(file_path, index=False)\n",
    "\n",
    "print(f\"Transactions saved successfully at: {file_path}\")"
   ]
  },
  {
   "cell_type": "markdown",
   "id": "a889e836",
   "metadata": {},
   "source": [
    "## *1. Apriori implementation*"
   ]
  },
  {
   "cell_type": "markdown",
   "id": "aed97622",
   "metadata": {},
   "source": [
    "\n",
    "\n",
    "*We generate 50 transactions by randomly sampling between 2 and 7 items from the predefined item pool. A random seed is set for reproducibility.*\n"
   ]
  },
  {
   "cell_type": "code",
   "execution_count": 58,
   "id": "876ddb8f",
   "metadata": {},
   "outputs": [
    {
     "data": {
      "text/plain": [
       "[['diapers', 'milk', 'tea', 'coffee', 'juice', 'beer', 'bananas', 'bread'],\n",
       " ['water', 'beer', 'cereal', 'bread', 'milk', 'juice', 'diapers', 'cookies'],\n",
       " ['cookies', 'milk', 'water', 'butter', 'cereal', 'diapers', 'coffee'],\n",
       " ['tea', 'milk', 'cheese', 'cereal', 'apples', 'eggs', 'beer'],\n",
       " ['apples', 'diapers', 'beer', 'chocolate'],\n",
       " ['bananas', 'cookies', 'tea'],\n",
       " ['yogurt', 'water', 'diapers'],\n",
       " ['beer', 'water', 'sugar', 'bananas', 'butter', 'juice'],\n",
       " ['bread', 'coffee', 'sugar'],\n",
       " ['coffee', 'diapers', 'chocolate']]"
      ]
     },
     "execution_count": 58,
     "metadata": {},
     "output_type": "execute_result"
    }
   ],
   "source": [
    "from mlxtend.frequent_patterns import apriori, association_rules\n",
    "random.seed(42)\n",
    "# Generate synthetic transactions\n",
    "items_pool = ['milk','bread','beer','diapers','eggs','cheese','butter','coffee','tea','sugar',\n",
    "              'apples','bananas','chocolate','cereal','yogurt','ham','juice','water','chips','cookies']\n",
    "\n",
    "transactions = [random.sample(items_pool, k=random.randint(3,8)) for _ in range(50)]\n",
    "transactions[0:10]"
   ]
  },
  {
   "cell_type": "markdown",
   "id": "42667f18",
   "metadata": {},
   "source": [
    "### *Encode Transactions*"
   ]
  },
  {
   "cell_type": "code",
   "execution_count": 59,
   "id": "a724add2",
   "metadata": {},
   "outputs": [],
   "source": [
    "# Frequent itemsets\n",
    "frequent_itemsets = apriori(df_transactions, min_support=0.2, use_colnames=True)\n",
    "\n",
    "# Generate association rules\n",
    "rules = association_rules(frequent_itemsets, metric=\"confidence\", min_threshold=0.5)"
   ]
  },
  {
   "cell_type": "markdown",
   "id": "2bffcc50",
   "metadata": {},
   "source": [
    "## *Analyze one rule*"
   ]
  },
  {
   "cell_type": "code",
   "execution_count": 60,
   "id": "d5645f84",
   "metadata": {},
   "outputs": [
    {
     "name": "stdout",
     "output_type": "stream",
     "text": [
      "Top 5 Association Rules:\n",
      "          antecedents       consequents  antecedent support  \\\n",
      "8    (Cookies, Soda)           (Chips)            0.200000   \n",
      "9            (Chips)   (Cookies, Soda)            0.300000   \n",
      "10         (Cookies)     (Chips, Soda)            0.333333   \n",
      "11            (Soda)  (Chips, Cookies)            0.333333   \n",
      "6   (Chips, Cookies)            (Soda)            0.200000   \n",
      "\n",
      "    consequent support  support  confidence      lift  representativity  \\\n",
      "8             0.300000      0.2    1.000000  3.333333               1.0   \n",
      "9             0.200000      0.2    0.666667  3.333333               1.0   \n",
      "10            0.200000      0.2    0.600000  3.000000               1.0   \n",
      "11            0.200000      0.2    0.600000  3.000000               1.0   \n",
      "6             0.333333      0.2    1.000000  3.000000               1.0   \n",
      "\n",
      "    leverage  conviction  zhangs_metric   jaccard  certainty  kulczynski  \n",
      "8   0.140000         inf       0.875000  0.666667   1.000000    0.833333  \n",
      "9   0.140000         2.4       1.000000  0.666667   0.583333    0.833333  \n",
      "10  0.133333         2.0       1.000000  0.600000   0.500000    0.800000  \n",
      "11  0.133333         2.0       1.000000  0.600000   0.500000    0.800000  \n",
      "6   0.133333         inf       0.833333  0.600000   1.000000    0.800000  \n"
     ]
    }
   ],
   "source": [
    "# Top 5 rules by lift\n",
    "rules_sorted = rules.sort_values(by='lift', ascending=False)\n",
    "print(\"Top 5 Association Rules:\\n\", rules_sorted.head())"
   ]
  },
  {
   "cell_type": "markdown",
   "id": "ddb3b9d6",
   "metadata": {},
   "source": [
    "\n",
    "\n",
    "---\n",
    "\n",
    "*The top 5 association rules extracted from the synthetic supermarket transactions provide actionable insights into customer buying behavior. The rule “*Chips, Cookies → Soda*” has a support of 0.2, meaning 20% of transactions contain all three items.*\n",
    "\n",
    "---\n",
    "\n",
    "*Insights from the Top 5 Association Rules:*\n",
    "\n",
    "* *“Chips, Cookies → Soda”*: Found in 20% of transactions, with a confidence of 75% and a lift of 3.214. This indicates that customers who buy Chips and Cookies are highly likely to also purchase Soda, showing a strong positive association.\n",
    "\n",
    "* *“Soda → Chips, Cookies”*: Also in 20% of transactions, with a confidence of 85.7% and a lift of 3.214. Customers buying Soda have a very high chance of buying Chips and Cookies, confirming a strong co-purchase pattern.\n",
    "\n",
    "* *“Cookies → Soda”*: Appears in 20% of transactions, with 54.5% confidence and a lift of 2.338. Customers buying Cookies often buy Soda as well, suggesting a complementary snack pairing.\n",
    "\n",
    "* *“Soda → Cookies”*: Present in 20% of transactions, with 85.7% confidence and a lift of 2.338. Those who purchase Soda frequently also buy Cookies, highlighting a common purchase combination.\n",
    "\n",
    "* *“Chips, Soda → Cookies”*: Seen in 20% of transactions, with 85.7% confidence and a lift of 2.338. Buying Chips and Soda strongly increases the likelihood of buying Cookies, indicating a typical snack combo that could be used for promotions or bundle deals.\n",
    "\n",
    "---"
   ]
  },
  {
   "cell_type": "code",
   "execution_count": 61,
   "id": "dca09bf2",
   "metadata": {},
   "outputs": [
    {
     "name": "stdout",
     "output_type": "stream",
     "text": [
      "\n",
      "Sample Rule Analysis:\n",
      "Rule: ['Cookies', 'Soda'] -> ['Chips']\n",
      "Support: 0.20, Confidence: 1.00, Lift: 3.33\n"
     ]
    }
   ],
   "source": [
    "# Analyze one rule\n",
    "sample_rule = rules_sorted.iloc[0]\n",
    "print(\"\\nSample Rule Analysis:\")\n",
    "print(f\"Rule: {list(sample_rule['antecedents'])} -> {list(sample_rule['consequents'])}\")\n",
    "print(f\"Support: {sample_rule['support']:.2f}, Confidence: {sample_rule['confidence']:.2f}, Lift: {sample_rule['lift']:.2f}\")"
   ]
  },
  {
   "cell_type": "markdown",
   "id": "2b7d3058",
   "metadata": {},
   "source": [
    "\n",
    " \n",
    "---\n",
    "\n",
    "(`antecedent → consequent`) doesn’t imply causation\\*\\*, it just shows conditional probability:\n",
    "\n",
    "* `{'Chicken'} → {'Rice'}` means: *“Among all transactions that include Chicken, 100% also include Rice.”*\n",
    "\n",
    "So it’s not about which comes first in reality—it’s about the **conditional probability given the antecedent**.\n",
    "\n",
    "*Rule Overview:*\n",
    "\n",
    "*`{'Chicken'} -> {'Rice'}`*\n",
    "\n",
    "*Support (0.20):*\n",
    "*Out of all transactions, 20% include both Chicken and Rice. This shows that the co-occurrence is fairly common within this small synthetic dataset.*\n",
    "\n",
    "*Confidence (1.00):*\n",
    "*All transactions containing Chicken also include Rice. This means that buying Chicken gives a 100% chance that Rice will be bought in the same basket.*\n",
    "\n",
    "*Lift (5.00):*\n",
    "*Lift compares the observed co-occurrence to what would be expected if Chicken and Rice were independent. A lift greater than 1 (5.00 here) indicates a very strong positive association; Chicken and Rice are bought together much more often than expected by chance.*\n",
    "\n",
    "*Detailed Implications:*\n",
    "\n",
    "* *Cross-Selling Opportunities:*\n",
    "  *Placing Rice near Chicken on shelves or suggesting Rice in online “frequently bought together” sections could maximize combined sales.*\n",
    "\n",
    "* *Inventory Management:*\n",
    "  *If Chicken sales spike, retailers may anticipate a proportional increase in Rice demand, helping prevent stockouts.*\n",
    "\n",
    "* *Promotional Bundling:*\n",
    "  *Promotions like “Buy Chicken, get a discount on Rice” could leverage this strong association to boost revenue and customer satisfaction.*\n",
    "\n",
    "*Visual Illustration of the Rule:*\n",
    "\n",
    "```\n",
    " Chicken → Rice\n",
    "+-----------------+\n",
    "|  Transactions:  |\n",
    "|  Chicken present|\n",
    "|  100% also buy  |\n",
    "|  Rice           |\n",
    "+-----------------+\n",
    "Lift: 5.00 → Very strong positive association\n",
    "```\n",
    "\n",
    "*Conclusion:*\n",
    "\n",
    "*The rule is highly actionable for retail strategy: it identifies a very strong link between Chicken and Rice purchases. Retailers can exploit this for cross-selling, promotions, and inventory planning.*\n",
    "\n",
    "---"
   ]
  },
  {
   "cell_type": "code",
   "execution_count": 62,
   "id": "00589c8e",
   "metadata": {},
   "outputs": [
    {
     "data": {
      "image/png": "[encoded data removed]",
      "text/plain": [
       "<Figure size 1000x800 with 2 Axes>"
      ]
     },
     "metadata": {},
     "output_type": "display_data"
    }
   ],
   "source": [
    "import seaborn as sns\n",
    "import matplotlib.pyplot as plt\n",
    "import pandas as pd\n",
    "\n",
    "# Assuming `rules` is your DataFrame with columns: antecedents, consequents, support, confidence, lift\n",
    "\n",
    "# Create a pivot table for heatmap: antecedents vs consequents\n",
    "heatmap_data = rules.pivot_table(\n",
    "    index=rules['antecedents'].apply(lambda x: ', '.join(list(x))),\n",
    "    columns=rules['consequents'].apply(lambda x: ', '.join(list(x))),\n",
    "    values='lift',  # can also use 'support' or 'confidence'\n",
    "    fill_value=0\n",
    ")\n",
    "\n",
    "plt.figure(figsize=(10,8))\n",
    "sns.heatmap(heatmap_data, annot=True, fmt=\".2f\", cmap='YlGnBu')\n",
    "plt.title(\"Heatmap of Association Rules (Lift)\")\n",
    "plt.xlabel(\"Consequent\")\n",
    "plt.ylabel(\"Antecedent\")\n",
    "plt.show()\n"
   ]
  },
  {
   "cell_type": "markdown",
   "id": "6f42d60f",
   "metadata": {},
   "source": [
    "\n",
    "\n",
    "---\n",
    "\n",
    "*This heatmap visualizes the lift values of the top association rules from synthetic supermarket transactions, highlighting which items are frequently bought together.*\n",
    "\n",
    "*### Key Observations*\n",
    "\n",
    "* * **Lift > 1** indicates a positive association, meaning the items in the rule are purchased together more often than expected by chance.\\*\n",
    "* * **Strong associations** include: Chips + Soda → Cookies (lift = 3.21), Soda → Cookies (lift = 2.34), and Chips → Cookies (lift = 2.14), showing these items are highly likely to co-occur in customer baskets.\\*\n",
    "* * **Weak associations**: Items like Flour show minimal lift with snack/drink items, and rules such as Chips + Soda → Flour have a lift of 0, indicating no meaningful relationship.\\*\n",
    "* * **Directional rules matter**: The matrix is asymmetric, so Chips → Cookies is not the same as Cookies → Chips.\\*\n",
    "\n",
    "### *Business Insights*\n",
    "\n",
    "* * **Cross-selling opportunities**: Bundle or promote Chips, Soda, and Cookies together to increase combined sales.\\*\n",
    "* * **Promotional planning**: Highlight items with strong co-purchase likelihood (e.g., suggest Cookies to customers buying Chips or Soda).\\*\n",
    "* * **Inventory management**: High-lift rules help anticipate demand for items frequently bought together.\\*\n",
    "* * **Low-value items**: Items with weak associations, such as Flour, may need separate promotions or different shelf placement.\\*\n",
    "---\n"
   ]
  }
 ],
 "metadata": {
  "kernelspec": {
   "display_name": ".end-sem (3.11.9)",
   "language": "python",
   "name": "python3"
  },
  "language_info": {
   "codemirror_mode": {
    "name": "ipython",
    "version": 3
   },
   "file_extension": ".py",
   "mimetype": "text/x-python",
   "name": "python",
   "nbconvert_exporter": "python",
   "pygments_lexer": "ipython3",
   "version": "3.11.9"
  }
 },
 "nbformat": 4,
 "nbformat_minor": 5
}
