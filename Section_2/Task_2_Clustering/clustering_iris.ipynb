{
 "cells": [
  {
   "cell_type": "markdown",
   "id": "9d38ed35",
   "metadata": {},
   "source": [
    "# *Task 2: Clustering with K-Means*\n"
   ]
  },
  {
   "cell_type": "code",
   "execution_count": 1,
   "id": "cbba3603",
   "metadata": {},
   "outputs": [],
   "source": [
    "# Import required libraries\n",
    "\n",
    "import pandas as pd\n",
    "import numpy as np\n",
    "import random\n",
    "import seaborn as sns\n",
    "import matplotlib.pyplot as plt\n",
    "from sklearn.cluster import KMeans\n",
    "from sklearn.metrics import adjusted_rand_score"
   ]
  },
  {
   "cell_type": "code",
   "execution_count": 2,
   "id": "42bef8e5",
   "metadata": {},
   "outputs": [
    {
     "name": "stdout",
     "output_type": "stream",
     "text": [
      "Data preview:\n"
     ]
    },
    {
     "data": {
      "application/vnd.microsoft.datawrangler.viewer.v0+json": {
       "columns": [
        {
         "name": "index",
         "rawType": "int64",
         "type": "integer"
        },
        {
         "name": "sepal length (cm)",
         "rawType": "float64",
         "type": "float"
        },
        {
         "name": "sepal width (cm)",
         "rawType": "float64",
         "type": "float"
        },
        {
         "name": "petal length (cm)",
         "rawType": "float64",
         "type": "float"
        },
        {
         "name": "petal width (cm)",
         "rawType": "float64",
         "type": "float"
        },
        {
         "name": "species",
         "rawType": "object",
         "type": "string"
        }
       ],
       "ref": "1dae002f-11d2-4a57-98ee-e4aa4e07acee",
       "rows": [
        [
         "0",
         "0.2222222222222221",
         "0.625",
         "0.0677966101694915",
         "0.0416666666666666",
         "setosa"
        ],
        [
         "1",
         "0.1666666666666667",
         "0.4166666666666667",
         "0.0677966101694915",
         "0.0416666666666666",
         "setosa"
        ],
        [
         "2",
         "0.1111111111111111",
         "0.5",
         "0.0508474576271186",
         "0.0416666666666666",
         "setosa"
        ],
        [
         "3",
         "0.0833333333333332",
         "0.4583333333333332",
         "0.0847457627118644",
         "0.0416666666666666",
         "setosa"
        ],
        [
         "4",
         "0.1944444444444444",
         "0.6666666666666667",
         "0.0677966101694915",
         "0.0416666666666666",
         "setosa"
        ]
       ],
       "shape": {
        "columns": 5,
        "rows": 5
       }
      },
      "text/html": [
       "<div>\n",
       "<style scoped>\n",
       "    .dataframe tbody tr th:only-of-type {\n",
       "        vertical-align: middle;\n",
       "    }\n",
       "\n",
       "    .dataframe tbody tr th {\n",
       "        vertical-align: top;\n",
       "    }\n",
       "\n",
       "    .dataframe thead th {\n",
       "        text-align: right;\n",
       "    }\n",
       "</style>\n",
       "<table border=\"1\" class=\"dataframe\">\n",
       "  <thead>\n",
       "    <tr style=\"text-align: right;\">\n",
       "      <th></th>\n",
       "      <th>sepal length (cm)</th>\n",
       "      <th>sepal width (cm)</th>\n",
       "      <th>petal length (cm)</th>\n",
       "      <th>petal width (cm)</th>\n",
       "      <th>species</th>\n",
       "    </tr>\n",
       "  </thead>\n",
       "  <tbody>\n",
       "    <tr>\n",
       "      <th>0</th>\n",
       "      <td>0.222222</td>\n",
       "      <td>0.625000</td>\n",
       "      <td>0.067797</td>\n",
       "      <td>0.041667</td>\n",
       "      <td>setosa</td>\n",
       "    </tr>\n",
       "    <tr>\n",
       "      <th>1</th>\n",
       "      <td>0.166667</td>\n",
       "      <td>0.416667</td>\n",
       "      <td>0.067797</td>\n",
       "      <td>0.041667</td>\n",
       "      <td>setosa</td>\n",
       "    </tr>\n",
       "    <tr>\n",
       "      <th>2</th>\n",
       "      <td>0.111111</td>\n",
       "      <td>0.500000</td>\n",
       "      <td>0.050847</td>\n",
       "      <td>0.041667</td>\n",
       "      <td>setosa</td>\n",
       "    </tr>\n",
       "    <tr>\n",
       "      <th>3</th>\n",
       "      <td>0.083333</td>\n",
       "      <td>0.458333</td>\n",
       "      <td>0.084746</td>\n",
       "      <td>0.041667</td>\n",
       "      <td>setosa</td>\n",
       "    </tr>\n",
       "    <tr>\n",
       "      <th>4</th>\n",
       "      <td>0.194444</td>\n",
       "      <td>0.666667</td>\n",
       "      <td>0.067797</td>\n",
       "      <td>0.041667</td>\n",
       "      <td>setosa</td>\n",
       "    </tr>\n",
       "  </tbody>\n",
       "</table>\n",
       "</div>"
      ],
      "text/plain": [
       "   sepal length (cm)  sepal width (cm)  petal length (cm)  petal width (cm)  \\\n",
       "0           0.222222          0.625000           0.067797          0.041667   \n",
       "1           0.166667          0.416667           0.067797          0.041667   \n",
       "2           0.111111          0.500000           0.050847          0.041667   \n",
       "3           0.083333          0.458333           0.084746          0.041667   \n",
       "4           0.194444          0.666667           0.067797          0.041667   \n",
       "\n",
       "  species  \n",
       "0  setosa  \n",
       "1  setosa  \n",
       "2  setosa  \n",
       "3  setosa  \n",
       "4  setosa  "
      ]
     },
     "execution_count": 2,
     "metadata": {},
     "output_type": "execute_result"
    }
   ],
   "source": [
    "# Relative path from Task_2_Clustering to the CSV\n",
    "file_path = r\"..\\Task_1_Data_Preprocessing_Exploration\\iris_preprocessed.csv\"\n",
    "\n",
    "# Load the data\n",
    "iris_df = pd.read_csv(file_path)\n",
    "\n",
    "# Optional: preview\n",
    "print(\"Data preview:\")\n",
    "iris_df .head()"
   ]
  },
  {
   "cell_type": "markdown",
   "id": "4d3afe4d",
   "metadata": {},
   "source": [
    "#### *Separate features and labels*"
   ]
  },
  {
   "cell_type": "code",
   "execution_count": null,
   "id": "52edbb8e",
   "metadata": {},
   "outputs": [],
   "source": [
    "# Separate features and labels\n",
    "X = iris_df.drop(columns=[\"species\"])\n",
    "y = iris_df[\"species\"]"
   ]
  },
  {
   "cell_type": "markdown",
   "id": "86fb92fa",
   "metadata": {},
   "source": [
    "### *2a: K-Means Clustering with ARI Evaluation*"
   ]
  },
  {
   "cell_type": "markdown",
   "id": "114a7d8b",
   "metadata": {},
   "source": [
    "*For the clustering analysis:*\n",
    "\n",
    "- *Test different numbers of clusters (k) to find the optimal value.*\n",
    "- *User Adjusted Rand Index (ARI) to evaluate clustering performance.*\n",
    "- *k=3 shows the best performance, matching the actual number of species in the dataset.*"
   ]
  },
  {
   "cell_type": "code",
   "execution_count": 4,
   "id": "7467445a",
   "metadata": {},
   "outputs": [
    {
     "name": "stdout",
     "output_type": "stream",
     "text": [
      "Adjusted Rand Index (k=3): 0.7041\n"
     ]
    }
   ],
   "source": [
    "# Fit KMeans with k=3 for the 3 species\n",
    "kmeans_3 = KMeans(n_clusters=3, random_state=42, n_init=10)\n",
    "iris_df['cluster_k3'] = kmeans_3.fit_predict(X)\n",
    "clusters=kmeans_3.labels_\n",
    "# Compare predicted clusters to actual species using Adjusted Rand Index (ARI)\n",
    "ari_k3 = adjusted_rand_score(y, iris_df['cluster_k3'])\n",
    "print(f\"Adjusted Rand Index (k=3): {ari_k3:.4f}\")"
   ]
  },
  {
   "cell_type": "markdown",
   "id": "4a476554",
   "metadata": {},
   "source": [
    "### *2b: Experiment with k=2 and k=4; Elbow curve*\n",
    "\n",
    "*Try different numbers of clusters (k) to find the optimal value. sanity check + sensitivity.*\n",
    "\n",
    "*k=2 -> algorithm merges to two real species.*\n",
    "\n",
    "*k=4 -> over segmentation*\n"
   ]
  },
  {
   "cell_type": "code",
   "execution_count": 5,
   "id": "2a20d1de",
   "metadata": {},
   "outputs": [
    {
     "name": "stdout",
     "output_type": "stream",
     "text": [
      "Adjusted Rand Index (k=2): 0.5555\n",
      "Adjusted Rand Index (k=4): 0.6072\n"
     ]
    }
   ],
   "source": [
    "# Try with different numbers of clusters\n",
    "kmeans_2 = KMeans(n_clusters=2, random_state=42, n_init=10)\n",
    "ari_k2 = adjusted_rand_score(y, kmeans_2.fit_predict(X))\n",
    "\n",
    "kmeans_4 = KMeans(n_clusters=4, random_state=42, n_init=10)\n",
    "ari_k4 = adjusted_rand_score(y, kmeans_4.fit_predict(X))\n",
    "\n",
    "print(f\"Adjusted Rand Index (k=2): {ari_k2:.4f}\")\n",
    "print(f\"Adjusted Rand Index (k=4): {ari_k4:.4f}\")"
   ]
  },
  {
   "cell_type": "markdown",
   "id": "62c8d264",
   "metadata": {},
   "source": [
    "### *3. Elbow Curve for Optimal k*"
   ]
  },
  {
   "cell_type": "code",
   "execution_count": 6,
   "id": "ea3ca158",
   "metadata": {},
   "outputs": [
    {
     "data": {
      "image/png": "[encoded data removed]",
      "text/plain": [
       "<Figure size 1000x600 with 1 Axes>"
      ]
     },
     "metadata": {},
     "output_type": "display_data"
    }
   ],
   "source": [
    "# Plotting an Elbow Curve\n",
    "inertia_values = []\n",
    "k_values = range(1, 8)\n",
    "\n",
    "for k in k_values:\n",
    "    km = KMeans(n_clusters=k, random_state=42, n_init=10)\n",
    "    km.fit(X)\n",
    "    inertia_values.append(km.inertia_)\n",
    "\n",
    "plt.figure(figsize=(10, 6))\n",
    "plt.plot(k_values, inertia_values, marker='o')\n",
    "plt.xlabel(\"Number of Clusters (k)\")\n",
    "plt.ylabel(\"Inertia\")\n",
    "plt.title(\"Elbow Method for Optimal k\")\n",
    "plt.grid(True)\n"
   ]
  },
  {
   "cell_type": "markdown",
   "id": "8150a514",
   "metadata": {},
   "source": [
    "### *Interpretation of the Machine Learning Visualizations*\n",
    "\n",
    "### *1. Elbow Method for Optimal k (Clustering Analysis)*\n",
    "\n",
    "The elbow plot shows the within-cluster sum of squares (WCSS) for different values of k (number of clusters):\n",
    "\n",
    "- *X-axis*: Number of clusters (k) ranging from 1 to 5  \n",
    "- *Y-axis*: WCSS (inertia) decreasing from 40 to about 5\n",
    "\n",
    "*Key Observations*:\n",
    "- The curve shows a sharp decrease in WCSS from k=1 to k=2 and k=2 to k=3\n",
    "- The \"elbow\" (point where the rate of decrease sharply changes) appears at k=3\n",
    "- Beyond k=3, adding more clusters provides diminishing returns\n",
    "\n",
    "*Interpretation*:\n",
    "- The optimal number of clusters for this dataset is *k=3*\n",
    "- This aligns perfectly with the known structure of the Iris dataset which has 3 species\n",
    "- The plot confirms that 3 clusters capture the natural grouping in the data most effectively\n"
   ]
  },
  {
   "cell_type": "markdown",
   "id": "d4584068",
   "metadata": {},
   "source": [
    "## *2c: Visualize clusters (petal length vs width) for k=3*"
   ]
  },
  {
   "cell_type": "code",
   "execution_count": 7,
   "id": "1e83ef24",
   "metadata": {},
   "outputs": [
    {
     "data": {
      "image/png": "[encoded data removed]",
      "text/plain": [
       "<Figure size 800x600 with 1 Axes>"
      ]
     },
     "metadata": {},
     "output_type": "display_data"
    }
   ],
   "source": [
    "# Plot the clusters\n",
    "plt.figure(figsize=(8,6))\n",
    "sns.scatterplot(\n",
    "    x='petal length (cm)',\n",
    "    y='petal width (cm)',\n",
    "    hue='cluster_k3',\n",
    "        palette='Set1',\n",
    "    data=iris_df\n",
    ")\n",
    "plt.title('K-Means Clusters (k=3)')\n",
    "plt.show()"
   ]
  },
  {
   "cell_type": "markdown",
   "id": "c7017e38",
   "metadata": {},
   "source": [
    "\n",
    "### *Interpretation of the Clusters*\n",
    "\n",
    "The K-Means algorithm grouped the data points based on proximity in the petal length/width feature space:\n",
    "\n",
    "- *Cluster 1 (Blue):* Located in the bottom-left. Data points have **low petal length** (~0.0–0.2 cm) and **low petal width** (~0.0–0.2 cm). Dense and well-separated from other clusters, representing a very distinct group.  \n",
    "\n",
    "- *Cluster 2 (Green):* Central region. Points have **intermediate petal length** (~0.3–0.75 cm) and **intermediate petal width** (~0.3–0.8 cm).  \n",
    "\n",
    "- *Cluster 0 (Red):* Upper-right region. Points have **high petal length** (~0.6–1.0 cm) and **high petal width** (~0.6–1.0 cm).\n",
    "\n",
    "### *Inference and Conclusion*\n",
    "\n",
    "1. *Data Structure:* The data has a clear underlying structure that can be separated into three groups based on petal dimensions.  \n",
    "\n",
    "2. *Cluster Separation:*  \n",
    "   - *Cluster 1 (Blue)* is clearly separated from the other two clusters.  \n",
    "   - *Cluster 0 (Red)* and *Cluster 2 (Green)* show some overlap, indicating these groups are similar but still distinct.  \n",
    "\n",
    "3. *Likely Dataset:* Features suggest the **Iris flower dataset**. The clusters likely correspond to three Iris species:  \n",
    "   - *Cluster 1 (Blue):* Iris Setosa (small petals, easily separable)  \n",
    "   - *Cluster 0 (Red) & Cluster 2 (Green):* Iris Versicolor and Iris Virginica (similar petal sizes, causing overlap)\n",
    "\n",
    "\n",
    "*In practice, this approach is useful for tasks like customer segmentation, grouping products, or detecting patterns in unlabeled datasets. If synthetic or noisy data were used, ARI would likely decrease due to weaker cluster separation.*\n",
    "\n"
   ]
  },
  {
   "cell_type": "markdown",
   "id": "91f3189d",
   "metadata": {},
   "source": [
    "### *Points per Cluster*"
   ]
  },
  {
   "cell_type": "code",
   "execution_count": 8,
   "id": "a7fd2f5f",
   "metadata": {},
   "outputs": [
    {
     "name": "stdout",
     "output_type": "stream",
     "text": [
      "Points per cluster:\n",
      " 0    60\n",
      "2    47\n",
      "1    39\n",
      "Name: count, dtype: int64\n"
     ]
    }
   ],
   "source": [
    "cluster_counts = pd.Series(clusters).value_counts()\n",
    "print(\"Points per cluster:\\n\", cluster_counts)"
   ]
  },
  {
   "cell_type": "markdown",
   "id": "c87091c3",
   "metadata": {},
   "source": [
    "*Cluster 0 have 60 points: The largest cluster correspond to a species with higher variance in features.*\n"
   ]
  },
  {
   "cell_type": "markdown",
   "id": "9f0979ae",
   "metadata": {},
   "source": [
    "### *Contingency Table (True vs Predicted)*"
   ]
  },
  {
   "cell_type": "code",
   "execution_count": 9,
   "id": "7b32f729",
   "metadata": {},
   "outputs": [
    {
     "name": "stdout",
     "output_type": "stream",
     "text": [
      "Cluster      0   1   2\n",
      "True                  \n",
      "setosa       0   0  47\n",
      "versicolor  46   3   0\n",
      "virginica   14  36   0\n"
     ]
    }
   ],
   "source": [
    "y_true = iris_df['species']\n",
    "contingency = pd.crosstab(y_true, clusters, rownames=['True'], colnames=['Cluster'])\n",
    "print(contingency)"
   ]
  },
  {
   "cell_type": "markdown",
   "id": "5154de68",
   "metadata": {},
   "source": [
    "*Cluster 1 perfectly captured species 0 (Setosa).*\n",
    "\n",
    "*Species 1 (Versicolor) mostly went to Cluster 2, with 3 misclassified as Cluster 0.*\n",
    "\n",
    "*Species 2 (Virginica) is split across Clusters 0 and 2, showing significant overlap with Versicolor.*\n",
    "\n",
    "*Misclassifications are mainly due to feature overlap between Versicolor and Virginica.*"
   ]
  },
  {
   "cell_type": "markdown",
   "id": "65dfd466",
   "metadata": {},
   "source": [
    "### `Analysis of the clustering`\n",
    "\n",
    "---\n",
    "*K-Means clustering on the preprocessed Iris dataset achieved an Adjusted Rand Index (ARI) of 0.7163, capturing the main structure of the data but not perfectly. Cluster 1 clearly identified Setosa, while Versicolor and Virginica were partially mixed, as reflected in the contingency table where some Versicolor and Virginica samples were misclassified. Cluster centers show Setosa’s small petal sizes in Cluster 1, with overlapping Versicolor and Virginica samples in Clusters 0 and 2, highlighting differences in species variance. These results illustrate real-world challenges, such as borderline cases in customer segmentation, and indicate that synthetic preprocessing and normalization helped scale features evenly but cannot fully resolve intrinsic overlaps, limiting clustering accuracy.*\n",
    "\n",
    "---\n",
    "**Real-World Implications**\n",
    "*K-Means effectively separates well-defined groups (like Setosa) but struggles with overlapping classes (Versicolor vs Virginica). In practice, this mirrors customer segmentation or product categorization where distinct groups are easy to cluster, but borderline cases may require additional features or more sophisticated models. Synthetic scaling or preprocessing can influence cluster placement and reduce variance effects, but it cannot completely resolve intrinsic overlaps in the data.*\n",
    "\n",
    "### Analysis of the clustering\n",
    "\n",
    "*K-Means clustering with k=3 achieved an Adjusted Rand Index of 0.7041, showing high agreement with actual species labels. k=2 reduced ARI to 0.5555, meaning species distinctions were lost when merged into fewer groups. k=4 slightly lowered ARI to 0.6072, likely due to over-segmentation. The elbow curve confirms k=3 as optimal.*\n",
    "\n",
    "*Cluster visualization of petal length vs. petal width reveals clear separation for Setosa, with some overlap between Versicolor and Virginica, explaining misclassifications. These overlaps arise because K-Means assumes spherical clusters with similar variance, which may not hold perfectly in biological datasets.*\n",
    "\n",
    "---\n"
   ]
  }
 ],
 "metadata": {
  "kernelspec": {
   "display_name": ".end-sem (3.11.9)",
   "language": "python",
   "name": "python3"
  },
  "language_info": {
   "codemirror_mode": {
    "name": "ipython",
    "version": 3
   },
   "file_extension": ".py",
   "mimetype": "text/x-python",
   "name": "python",
   "nbconvert_exporter": "python",
   "pygments_lexer": "ipython3",
   "version": "3.11.9"
  }
 },
 "nbformat": 4,
 "nbformat_minor": 5
}
